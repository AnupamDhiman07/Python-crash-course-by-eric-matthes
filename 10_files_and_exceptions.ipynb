{
  "nbformat": 4,
  "nbformat_minor": 0,
  "metadata": {
    "colab": {
      "provenance": []
    },
    "kernelspec": {
      "name": "python3",
      "display_name": "Python 3"
    },
    "language_info": {
      "name": "python"
    }
  },
  "cells": [
    {
      "cell_type": "code",
      "execution_count": 1,
      "metadata": {
        "id": "KqbnqWOc2YUc",
        "colab": {
          "base_uri": "https://localhost:8080/"
        },
        "outputId": "d2146dff-3fe7-43a0-95a3-9c5187454864"
      },
      "outputs": [
        {
          "output_type": "stream",
          "name": "stdout",
          "text": [
            "Mounted at /content/drive\n"
          ]
        }
      ],
      "source": [
        "from google.colab import drive\n",
        "\n",
        "# This will prompt you to authorize the connection between Colab and your Drive.\n",
        "drive.mount('/content/drive')"
      ]
    },
    {
      "cell_type": "code",
      "source": [
        "file_path = '/content/drive/MyDrive/pi_digits.txt'  # Replace this with the correct path to your file\n",
        "with open(file_path) as file_object:\n",
        "    contents = file_object.read()\n",
        "\n",
        "print(contents)"
      ],
      "metadata": {
        "colab": {
          "base_uri": "https://localhost:8080/"
        },
        "id": "sx2dAERt5sy7",
        "outputId": "178a7a7f-728b-4576-b109-24e4625b1c43"
      },
      "execution_count": 3,
      "outputs": [
        {
          "output_type": "stream",
          "name": "stdout",
          "text": [
            "3.1415926535\n",
            "  8979323846\n",
            "  2643383279\n"
          ]
        }
      ]
    },
    {
      "cell_type": "code",
      "source": [
        "with open(file_path) as file_object:\n",
        "  contents = file_object.read()\n",
        "  print(contents.rstrip())"
      ],
      "metadata": {
        "colab": {
          "base_uri": "https://localhost:8080/"
        },
        "id": "IkSDtKrb6Jpt",
        "outputId": "9db19647-05cd-41f0-ad99-65b64ea02adb"
      },
      "execution_count": 5,
      "outputs": [
        {
          "output_type": "stream",
          "name": "stdout",
          "text": [
            "3.1415926535\n",
            "  8979323846\n",
            "  2643383279\n"
          ]
        }
      ]
    },
    {
      "cell_type": "code",
      "source": [
        "filename = '/content/drive/MyDrive/pi_digits.txt'\n",
        "with open(filename) as file_object:\n",
        "  for line in file_object:\n",
        "    print(line)"
      ],
      "metadata": {
        "colab": {
          "base_uri": "https://localhost:8080/"
        },
        "id": "O0aBw6D-6qwE",
        "outputId": "abc4a232-f52f-4646-d6ba-03acd7e616b4"
      },
      "execution_count": 7,
      "outputs": [
        {
          "output_type": "stream",
          "name": "stdout",
          "text": [
            "3.1415926535\n",
            "\n",
            "  8979323846\n",
            "\n",
            "  2643383279\n"
          ]
        }
      ]
    },
    {
      "cell_type": "code",
      "source": [
        "filename = '/content/drive/MyDrive/pi_digits.txt'\n",
        "with open(filename) as file_object:\n",
        "  for line in file_object:\n",
        "    print(line.rstrip())"
      ],
      "metadata": {
        "colab": {
          "base_uri": "https://localhost:8080/"
        },
        "id": "trIHKxSt7G1i",
        "outputId": "af849c03-a883-452b-af44-725db95beb6a"
      },
      "execution_count": 8,
      "outputs": [
        {
          "output_type": "stream",
          "name": "stdout",
          "text": [
            "3.1415926535\n",
            "  8979323846\n",
            "  2643383279\n"
          ]
        }
      ]
    },
    {
      "cell_type": "code",
      "source": [
        "# Working with a file's contents\n",
        "filename = '/content/drive/MyDrive/pi_digits.txt'\n",
        "with open(filename) as file_object:\n",
        "  lines = file_object.readlines()\n",
        "\n",
        "pi_string = ''\n",
        "for line in lines:\n",
        "  pi_string += line.rstrip()\n",
        "\n",
        "print(pi_string)\n",
        "print(len(pi_string))"
      ],
      "metadata": {
        "colab": {
          "base_uri": "https://localhost:8080/"
        },
        "id": "-cbRSfQU7TIj",
        "outputId": "ac962878-d286-4be0-d6d5-a78ee3954393"
      },
      "execution_count": 9,
      "outputs": [
        {
          "output_type": "stream",
          "name": "stdout",
          "text": [
            "3.1415926535  8979323846  2643383279\n",
            "36\n"
          ]
        }
      ]
    },
    {
      "cell_type": "code",
      "source": [
        "# to get rid of the whitespace that\n",
        "#was on the left side of the digits in each line\n",
        "filename = '/content/drive/MyDrive/pi_digits.txt'\n",
        "with open(filename) as file_object:\n",
        "  lines = file_object.readlines()\n",
        "\n",
        "pi_string = ''\n",
        "for line in lines:\n",
        "  pi_string += line.strip()\n",
        "\n",
        "print(pi_string)\n",
        "print(len(pi_string))"
      ],
      "metadata": {
        "colab": {
          "base_uri": "https://localhost:8080/"
        },
        "id": "LVCvcyiU711x",
        "outputId": "cf9642b2-0383-427b-f6af-bb7a55beec55"
      },
      "execution_count": 10,
      "outputs": [
        {
          "output_type": "stream",
          "name": "stdout",
          "text": [
            "3.141592653589793238462643383279\n",
            "32\n"
          ]
        }
      ]
    },
    {
      "cell_type": "code",
      "source": [
        "filename = '/content/drive/MyDrive/pi_million_digits.txt'\n",
        "with open(filename) as file_object:\n",
        "  lines = file_object.readlines()\n",
        "\n",
        "pi_string =''\n",
        "for line in lines:\n",
        "  pi_string +=line.strip()\n",
        "\n",
        "print(f\"{pi_string[:52]}...\")\n",
        "print(len(pi_string))"
      ],
      "metadata": {
        "colab": {
          "base_uri": "https://localhost:8080/"
        },
        "id": "kkXRAIH_9sxP",
        "outputId": "847536f2-17e6-4c3f-f5e4-c1125812cec8"
      },
      "execution_count": 11,
      "outputs": [
        {
          "output_type": "stream",
          "name": "stdout",
          "text": [
            "3.14159265358979323846264338327950288419716939937510...\n",
            "1000002\n"
          ]
        }
      ]
    },
    {
      "cell_type": "code",
      "source": [
        "# is your birthday contained in pi?\n",
        "filename = '/content/drive/MyDrive/pi_million_digits.txt'\n",
        "with open(filename) as file_object:\n",
        "  lines = file_object.readlines()\n",
        "\n",
        "pi_string =''\n",
        "for line in lines:\n",
        "   birthday = input(\"Enter your birthday, in the form mmddyy: \")\n",
        "   if birthday in pi_string:\n",
        "    print(\"Your birthday appears in the first million digits of pi!\")\n",
        "   else:\n",
        "    print(\"Your birthday does not appear in the first million digits of pi.\")\n",
        "    break"
      ],
      "metadata": {
        "colab": {
          "base_uri": "https://localhost:8080/"
        },
        "id": "ak1rMxyD-dcU",
        "outputId": "fba96cb8-739e-4a78-9b7a-a585165a64ec"
      },
      "execution_count": 1,
      "outputs": [
        {
          "output_type": "stream",
          "name": "stdout",
          "text": [
            "Enter your birthday, in the form mmddyy: 050895\n",
            "Your birthday does not appear in the first million digits of pi.\n"
          ]
        }
      ]
    },
    {
      "cell_type": "markdown",
      "source": [
        "**EXCEPTIONS**\n",
        "\n",
        "**Using try-except Blocks**\n",
        "\n",
        "When you think an error may occur, you can write a try-except block to\n",
        "handle the exception that might be raised. You tell Python to try running\n",
        "some code, and you tell it what to do if the code results in a particular kind\n",
        "of exception.\n",
        "\n"
      ],
      "metadata": {
        "id": "T9Q-jeoI_ai4"
      }
    },
    {
      "cell_type": "code",
      "source": [],
      "metadata": {
        "id": "-9ktbLtVAGBc"
      },
      "execution_count": null,
      "outputs": []
    }
  ]
}