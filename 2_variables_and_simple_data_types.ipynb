{
  "nbformat": 4,
  "nbformat_minor": 0,
  "metadata": {
    "colab": {
      "provenance": []
    },
    "kernelspec": {
      "name": "python3",
      "display_name": "Python 3"
    },
    "language_info": {
      "name": "python"
    }
  },
  "cells": [
    {
      "cell_type": "markdown",
      "source": [
        "CHAPTER 2: VARIABLES AND SIMPLE DATA TYPES"
      ],
      "metadata": {
        "id": "c5exhnrTWtDD"
      }
    },
    {
      "cell_type": "code",
      "source": [
        "print(\"Hello Python World!\")"
      ],
      "metadata": {
        "colab": {
          "base_uri": "https://localhost:8080/"
        },
        "id": "sQ59EB5nW5hb",
        "outputId": "f0f626e3-c622-406c-9b89-5a5b338f96a1"
      },
      "execution_count": 1,
      "outputs": [
        {
          "output_type": "stream",
          "name": "stdout",
          "text": [
            "Hello Python World!\n"
          ]
        }
      ]
    },
    {
      "cell_type": "code",
      "source": [
        "message = \"Hello Python World!\"\n",
        "print(\"message\")\n",
        "print(\"Hello Python Crash Course World!\")"
      ],
      "metadata": {
        "colab": {
          "base_uri": "https://localhost:8080/"
        },
        "id": "mQr6IdHFXAkA",
        "outputId": "d61e4edc-038d-4d04-c655-83c67b660cbd"
      },
      "execution_count": 2,
      "outputs": [
        {
          "output_type": "stream",
          "name": "stdout",
          "text": [
            "message\n",
            "Hello Python Crash Course World!\n"
          ]
        }
      ]
    },
    {
      "cell_type": "markdown",
      "source": [
        "A Python **VARIABLE** is a name given to a memory location. It is the basic unit of storage in a program.\n",
        "\n",
        "**The following rules should be kept in mind when naming variables:**\n",
        "\n",
        "a variable name can contain a letter, an underscore or a number. It must not begin with a number.\n",
        "\n",
        "spaces are not allowed in a variable name but underscore can be used.\n",
        "\n",
        "avoid using python keywords or functions as variable names.\n",
        "\n",
        "variable names should be short but descriptive.\n",
        "\n",
        "A **TRACEBACK** is a record of where the interpreter ran into trouble when executing your code."
      ],
      "metadata": {
        "id": "BXFY-v6eXcL7"
      }
    },
    {
      "cell_type": "markdown",
      "source": [
        "DATA TYPES IN PYTHON\n",
        "\n",
        "NUMERIC  *Integer *Float  *Complex Number\n",
        "\n",
        "BOOLEAN\n",
        "\n",
        "DICTIONARY\n",
        "\n",
        "SET\n",
        "\n",
        "SEQUENCE *String *List *Tuple"
      ],
      "metadata": {
        "id": "65Dr-GNvXlEw"
      }
    },
    {
      "cell_type": "code",
      "source": [
        "name=\"ada lovelace\"\n",
        "print(name.title())"
      ],
      "metadata": {
        "colab": {
          "base_uri": "https://localhost:8080/"
        },
        "id": "a6AZ_5lRYBet",
        "outputId": "fbc14376-c6be-4f7a-b303-06166a66af12"
      },
      "execution_count": 3,
      "outputs": [
        {
          "output_type": "stream",
          "name": "stdout",
          "text": [
            "Ada Lovelace\n"
          ]
        }
      ]
    },
    {
      "cell_type": "markdown",
      "source": [
        "The **title() **function changes the first character of the variable called name to upper case"
      ],
      "metadata": {
        "id": "J_kOsY0HYFpe"
      }
    },
    {
      "cell_type": "code",
      "source": [
        "print(name.upper())\n",
        "print(name.lower())"
      ],
      "metadata": {
        "colab": {
          "base_uri": "https://localhost:8080/"
        },
        "id": "NYgRdS0uYKrT",
        "outputId": "7378124f-0bb9-43dc-e954-ce1075595d90"
      },
      "execution_count": 4,
      "outputs": [
        {
          "output_type": "stream",
          "name": "stdout",
          "text": [
            "ADA LOVELACE\n",
            "ada lovelace\n"
          ]
        }
      ]
    },
    {
      "cell_type": "code",
      "source": [
        "first_name = \"ada\"\n",
        "last_name = \"lovelace\"\n",
        "full_name = f\"{first_name} {last_name}\"\n",
        "print(full_name)"
      ],
      "metadata": {
        "colab": {
          "base_uri": "https://localhost:8080/"
        },
        "id": "5cPpVQsfYMuC",
        "outputId": "f0158b29-7b9c-435c-a0dc-e98fcbbdacdc"
      },
      "execution_count": 5,
      "outputs": [
        {
          "output_type": "stream",
          "name": "stdout",
          "text": [
            "ada lovelace\n"
          ]
        }
      ]
    },
    {
      "cell_type": "markdown",
      "source": [
        "Here f is for format. Python formats the string by replacing the name of any variable in braces with its value."
      ],
      "metadata": {
        "id": "E2WCZasjYQUx"
      }
    },
    {
      "cell_type": "code",
      "source": [
        "first_name = \"ada\"\n",
        "last_name = \"lovelace\"\n",
        "full_name = f\"{first_name} {last_name}\"\n",
        "print(f\"Hello, {full_name.title()}!\")"
      ],
      "metadata": {
        "colab": {
          "base_uri": "https://localhost:8080/"
        },
        "id": "V0oxkVdmYTQh",
        "outputId": "e7fd7151-8403-43b1-d804-7b43985180b0"
      },
      "execution_count": 6,
      "outputs": [
        {
          "output_type": "stream",
          "name": "stdout",
          "text": [
            "Hello, Ada Lovelace!\n"
          ]
        }
      ]
    },
    {
      "cell_type": "code",
      "source": [
        "print(\"Languages:\\nPython\\nC\\nJavaScript\")"
      ],
      "metadata": {
        "colab": {
          "base_uri": "https://localhost:8080/"
        },
        "id": "XwXWOHAOYVjq",
        "outputId": "98237ec2-9cb9-49ab-ca68-4f8998de4ec4"
      },
      "execution_count": 7,
      "outputs": [
        {
          "output_type": "stream",
          "name": "stdout",
          "text": [
            "Languages:\n",
            "Python\n",
            "C\n",
            "JavaScript\n"
          ]
        }
      ]
    },
    {
      "cell_type": "code",
      "source": [
        "print(\"Languages:\\n\\tPython\\n\\tC\\n\\tJavaScript\")"
      ],
      "metadata": {
        "colab": {
          "base_uri": "https://localhost:8080/"
        },
        "id": "zW6UXcSxYYkH",
        "outputId": "9947bcf7-64f2-4890-b48c-cd3cdbbdbcd9"
      },
      "execution_count": 8,
      "outputs": [
        {
          "output_type": "stream",
          "name": "stdout",
          "text": [
            "Languages:\n",
            "\tPython\n",
            "\tC\n",
            "\tJavaScript\n"
          ]
        }
      ]
    },
    {
      "cell_type": "code",
      "source": [
        "favourite_language = \" Python \"\n",
        "print(favourite_language.rstrip())\n",
        "print(favourite_language.lstrip())\n",
        "print(favourite_language.strip())"
      ],
      "metadata": {
        "colab": {
          "base_uri": "https://localhost:8080/"
        },
        "id": "sKfmb3K8YaaM",
        "outputId": "d6f07a5a-3dc4-4413-fde5-f7e87468e21c"
      },
      "execution_count": 9,
      "outputs": [
        {
          "output_type": "stream",
          "name": "stdout",
          "text": [
            " Python\n",
            "Python \n",
            "Python\n"
          ]
        }
      ]
    },
    {
      "cell_type": "markdown",
      "source": [
        "rstrip() is used to get rid of the blank space after the word python\n",
        "\n",
        "lstrip() is used to get rid of the blank space before the word python\n",
        "\n",
        "strip() is used to get rid o blan spaces before and after the word python"
      ],
      "metadata": {
        "id": "t4muSbB8Ycw1"
      }
    }
  ]
}