{
  "nbformat": 4,
  "nbformat_minor": 0,
  "metadata": {
    "colab": {
      "provenance": []
    },
    "kernelspec": {
      "name": "python3",
      "display_name": "Python 3"
    },
    "language_info": {
      "name": "python"
    }
  },
  "cells": [
    {
      "cell_type": "markdown",
      "source": [
        "**CHAPTER 3: INTRODUCING LISTS**\n",
        "\n",
        "A list is a collection of objects in a particular order. In Python, the elements of a list are enclosed in square brackets."
      ],
      "metadata": {
        "id": "PXrg7Cpx9d17"
      }
    },
    {
      "cell_type": "code",
      "source": [
        "bicycles=['trek', 'cannondale', 'redline','specialized']\n",
        "print(bicycles)"
      ],
      "metadata": {
        "colab": {
          "base_uri": "https://localhost:8080/"
        },
        "id": "MSvP5vEv9hHE",
        "outputId": "addfb498-2814-4dc2-e117-7fb76352a1f4"
      },
      "execution_count": 1,
      "outputs": [
        {
          "output_type": "stream",
          "name": "stdout",
          "text": [
            "['trek', 'cannondale', 'redline', 'specialized']\n"
          ]
        }
      ]
    },
    {
      "cell_type": "code",
      "source": [
        "# Accessing elements in a list\n",
        "print(bicycles[0])\n",
        "print(bicycles[0].title())\n",
        "# To access the last element in a list\n",
        "print(bicycles[-1])"
      ],
      "metadata": {
        "colab": {
          "base_uri": "https://localhost:8080/"
        },
        "id": "tb3dwJVJ9lC7",
        "outputId": "2bf1fb94-7965-4d8f-ba6f-d34c3ff513ed"
      },
      "execution_count": 2,
      "outputs": [
        {
          "output_type": "stream",
          "name": "stdout",
          "text": [
            "trek\n",
            "Trek\n",
            "specialized\n"
          ]
        }
      ]
    },
    {
      "cell_type": "code",
      "source": [
        "bicycles=['trek','cannondale','redline','specialized']\n",
        "message=f\"My first bicycle was a {bicycles[0].title()}\"\n",
        "print(message)"
      ],
      "metadata": {
        "colab": {
          "base_uri": "https://localhost:8080/"
        },
        "id": "slu2-MIs9oo8",
        "outputId": "4339f367-2241-45bb-bde9-e1303331b6ce"
      },
      "execution_count": 3,
      "outputs": [
        {
          "output_type": "stream",
          "name": "stdout",
          "text": [
            "My first bicycle was a Trek\n"
          ]
        }
      ]
    },
    {
      "cell_type": "markdown",
      "source": [
        "**Changing, adding, and removing elements in a list**\n",
        "\n"
      ],
      "metadata": {
        "id": "CJtqJVp_9r-k"
      }
    },
    {
      "cell_type": "code",
      "source": [
        "motorcycles=['honda', 'yamaha', 'suzuki']\n",
        "print(motorcycles)\n",
        "motorcycles[0] = 'ducati'\n",
        "print(motorcycles)"
      ],
      "metadata": {
        "colab": {
          "base_uri": "https://localhost:8080/"
        },
        "id": "K78TlmxX9tkc",
        "outputId": "cbf68b17-d6f7-4568-cf0d-1538c83cec6c"
      },
      "execution_count": 5,
      "outputs": [
        {
          "output_type": "stream",
          "name": "stdout",
          "text": [
            "['honda', 'yamaha', 'suzuki']\n",
            "['ducati', 'yamaha', 'suzuki']\n"
          ]
        }
      ]
    },
    {
      "cell_type": "markdown",
      "source": [
        "**The simplest way to add a new element to a list is to append it to the list. When you append an item to a list, the new element is added to the end of the list.**"
      ],
      "metadata": {
        "id": "6BcXZwmi9zXs"
      }
    },
    {
      "cell_type": "code",
      "source": [
        "motorcycles=['honda', 'yamaha', 'suzuki']\n",
        "motorcycles.append('ducati')\n",
        "print(motorcycles)"
      ],
      "metadata": {
        "colab": {
          "base_uri": "https://localhost:8080/"
        },
        "id": "M6tcCdxf93MT",
        "outputId": "6a503503-01a5-42a8-dca2-ee3950f13c89"
      },
      "execution_count": 6,
      "outputs": [
        {
          "output_type": "stream",
          "name": "stdout",
          "text": [
            "['honda', 'yamaha', 'suzuki', 'ducati']\n"
          ]
        }
      ]
    },
    {
      "cell_type": "code",
      "source": [
        "motorcycles = []\n",
        "motorcycles.append('honda')\n",
        "motorcycles.append('yamaha')\n",
        "motorcycles.append('suzuki')\n",
        "print(motorcycles)"
      ],
      "metadata": {
        "colab": {
          "base_uri": "https://localhost:8080/"
        },
        "id": "C8yKXpT297P5",
        "outputId": "eea3cc69-b68c-4756-b3d8-941ddf29c909"
      },
      "execution_count": 7,
      "outputs": [
        {
          "output_type": "stream",
          "name": "stdout",
          "text": [
            "['honda', 'yamaha', 'suzuki']\n"
          ]
        }
      ]
    },
    {
      "cell_type": "code",
      "source": [
        "motorcycles = ['honda', 'yamaha', 'suzuki']\n",
        "motorcycles.insert(0, 'ducati')\n",
        "print(motorcycles)"
      ],
      "metadata": {
        "colab": {
          "base_uri": "https://localhost:8080/"
        },
        "id": "2wNQMBRg9_gK",
        "outputId": "a33d0712-87e6-4a49-ab4c-3c7cf45fe71e"
      },
      "execution_count": 8,
      "outputs": [
        {
          "output_type": "stream",
          "name": "stdout",
          "text": [
            "['ducati', 'honda', 'yamaha', 'suzuki']\n"
          ]
        }
      ]
    },
    {
      "cell_type": "markdown",
      "source": [
        "**The insert() method opens a space at position 0 and stores the value 'ducati' at that location. This operation shifts every other value in the list one position to the right.**"
      ],
      "metadata": {
        "id": "uVOJkItS-Dsn"
      }
    },
    {
      "cell_type": "code",
      "source": [
        "motorcycles = ['honda', 'yamaha', 'suzuki']\n",
        "del motorcycles[0]\n",
        "print(motorcycles)"
      ],
      "metadata": {
        "colab": {
          "base_uri": "https://localhost:8080/"
        },
        "id": "Xt53qsf5-GuK",
        "outputId": "f67d8423-b3c2-4d5c-a8bc-76cb70469684"
      },
      "execution_count": 9,
      "outputs": [
        {
          "output_type": "stream",
          "name": "stdout",
          "text": [
            "['yamaha', 'suzuki']\n"
          ]
        }
      ]
    },
    {
      "cell_type": "markdown",
      "source": [
        "**You can no longer access the value that was removed from the list after the del statement is used.**"
      ],
      "metadata": {
        "id": "ZszDofoc-JvN"
      }
    },
    {
      "cell_type": "code",
      "source": [
        "motorcycles = ['honda', 'yamaha', 'suzuki']\n",
        "print(motorcycles)\n",
        "popped_motorcycle = motorcycles.pop()\n",
        "print(motorcycles)\n",
        "print(popped_motorcycle)"
      ],
      "metadata": {
        "colab": {
          "base_uri": "https://localhost:8080/"
        },
        "id": "Kfz7pIk_-NcN",
        "outputId": "04a26527-8b88-4514-dabb-06a2d81d1f2d"
      },
      "execution_count": 10,
      "outputs": [
        {
          "output_type": "stream",
          "name": "stdout",
          "text": [
            "['honda', 'yamaha', 'suzuki']\n",
            "['honda', 'yamaha']\n",
            "suzuki\n"
          ]
        }
      ]
    },
    {
      "cell_type": "markdown",
      "source": [
        "The pop() method removes the last item in a list, but lets you work with the item after removing it."
      ],
      "metadata": {
        "id": "SYskDvrQ-QqJ"
      }
    },
    {
      "cell_type": "code",
      "source": [
        "motorcycles = ['honda', 'yamaha', 'suzuki']\n",
        "first_owned = motorcycles.pop(0)\n",
        "print(f\"The first motorcycle i owned was a {first_owned.title()}.\")"
      ],
      "metadata": {
        "colab": {
          "base_uri": "https://localhost:8080/"
        },
        "id": "2e80dRpM-aQT",
        "outputId": "542d268b-cf57-4532-e2b8-be21a74cc3d6"
      },
      "execution_count": 11,
      "outputs": [
        {
          "output_type": "stream",
          "name": "stdout",
          "text": [
            "The first motorcycle i owned was a Honda.\n"
          ]
        }
      ]
    },
    {
      "cell_type": "markdown",
      "source": [
        "**IF YOU ARE UNSURE WHETHER TO USE THE del STATEMENT OR THE pop() METHOD, HERE'S A SIMPLE WAY TO DECIDE:**\n",
        "\n",
        "WHEN YOU WANT TO DELETE AN ITEM FROM A LIST AND NOT USE THAT ITEM IN ANY WAY, USE del STATEMENT; IF YOU WANT TO USE AN ITEM AS YOU REMOVE IT, USE THE pop() METHOD"
      ],
      "metadata": {
        "id": "946FSlcx-eIM"
      }
    },
    {
      "cell_type": "code",
      "source": [
        "motorcycles = ['honda', 'yamaha', 'suzuki', 'ducati']\n",
        "print(motorcycles)\n",
        "motorcycles.remove('ducati')\n",
        "print(motorcycles)"
      ],
      "metadata": {
        "colab": {
          "base_uri": "https://localhost:8080/"
        },
        "id": "h8F7cD9O-kVD",
        "outputId": "a0e0e318-8f92-4661-8349-3ad788fae0fb"
      },
      "execution_count": 12,
      "outputs": [
        {
          "output_type": "stream",
          "name": "stdout",
          "text": [
            "['honda', 'yamaha', 'suzuki', 'ducati']\n",
            "['honda', 'yamaha', 'suzuki']\n"
          ]
        }
      ]
    },
    {
      "cell_type": "markdown",
      "source": [
        "If you do not know the position of the value you want to remove from a list, you can use the remove() method.\n",
        "\n",
        "The remove() method deletes only the first occurence of the value you specify. If there is a possibility the value appears more than once in a list, you'll need to use a loop to make sure all occurences of the value are removed."
      ],
      "metadata": {
        "id": "r7zWLEXQ-ohe"
      }
    },
    {
      "cell_type": "markdown",
      "source": [
        "**ORGANIZING A LIST**"
      ],
      "metadata": {
        "id": "12kIac-F-rIV"
      }
    },
    {
      "cell_type": "code",
      "source": [
        "cars= ['bmw', 'audi', 'toyota', 'subaru']\n",
        "cars.sort()\n",
        "print(cars)"
      ],
      "metadata": {
        "colab": {
          "base_uri": "https://localhost:8080/"
        },
        "id": "jzA_2E2t-ugY",
        "outputId": "5f395dac-6956-46d7-b846-45121c61b86d"
      },
      "execution_count": 13,
      "outputs": [
        {
          "output_type": "stream",
          "name": "stdout",
          "text": [
            "['audi', 'bmw', 'subaru', 'toyota']\n"
          ]
        }
      ]
    },
    {
      "cell_type": "markdown",
      "source": [
        "The sort() method changes the order of the list permanently. The cars are now arranged in alphabetical order and we can never revert to the original order.\n",
        "\n",
        "The list can also be sorted in reverse order by passing the argument reverse=True to the sort() method."
      ],
      "metadata": {
        "id": "8LNZ45ON-xYu"
      }
    },
    {
      "cell_type": "code",
      "source": [
        "cas= ['bmw', 'audi', 'toyota', 'subaru']\n",
        "cars.sort(reverse=True)\n",
        "print(cars)"
      ],
      "metadata": {
        "colab": {
          "base_uri": "https://localhost:8080/"
        },
        "id": "E5YUUk_T-zpM",
        "outputId": "f3fd2895-f78b-43b7-e3ba-355a230db690"
      },
      "execution_count": 14,
      "outputs": [
        {
          "output_type": "stream",
          "name": "stdout",
          "text": [
            "['toyota', 'subaru', 'bmw', 'audi']\n"
          ]
        }
      ]
    },
    {
      "cell_type": "code",
      "source": [
        "cars=['bmw', 'audi', 'toyota', 'subaru']\n",
        "print(\"Here is the original list:\")\n",
        "print(cars)\n",
        "print(\"\\n Here is a sorted list:\")\n",
        "print(sorted(cars))\n",
        "print(\"\\nHere is the original list again: \")\n",
        "print(cars)"
      ],
      "metadata": {
        "colab": {
          "base_uri": "https://localhost:8080/"
        },
        "id": "Tt4xEDy9-2Qb",
        "outputId": "98d434fc-03f6-4c53-81de-fe81f3e6b6c9"
      },
      "execution_count": 15,
      "outputs": [
        {
          "output_type": "stream",
          "name": "stdout",
          "text": [
            "Here is the original list:\n",
            "['bmw', 'audi', 'toyota', 'subaru']\n",
            "\n",
            " Here is a sorted list:\n",
            "['audi', 'bmw', 'subaru', 'toyota']\n",
            "\n",
            "Here is the original list again: \n",
            "['bmw', 'audi', 'toyota', 'subaru']\n"
          ]
        }
      ]
    },
    {
      "cell_type": "markdown",
      "source": [
        "To maintain the original order of a list but present it in a sorted order, you can use the sorted() function. The sorted() function lets you display your list in a particular order but doesn't affect the actual order of the list. The sorted() function also accepts a reverse=True argument if you want to display a list in reverse alphabetical order."
      ],
      "metadata": {
        "id": "PaRjtfV3-4ha"
      }
    },
    {
      "cell_type": "code",
      "source": [
        "cars= ['bmw', 'audi', 'toyota', 'subaru']\n",
        "cars.reverse()\n",
        "print(cars)"
      ],
      "metadata": {
        "colab": {
          "base_uri": "https://localhost:8080/"
        },
        "id": "vKaCh8Zv-6w7",
        "outputId": "d06d70f8-e5b8-4bcf-965e-6e7dc0dfca09"
      },
      "execution_count": 16,
      "outputs": [
        {
          "output_type": "stream",
          "name": "stdout",
          "text": [
            "['subaru', 'toyota', 'audi', 'bmw']\n"
          ]
        }
      ]
    },
    {
      "cell_type": "markdown",
      "source": [
        "The reverse() method reversesthe order of the list permanently."
      ],
      "metadata": {
        "id": "4KPst-te-_F8"
      }
    },
    {
      "cell_type": "code",
      "source": [
        "cars = ['bmw', 'audi', 'toyota', 'subaru']\n",
        "len(cars)"
      ],
      "metadata": {
        "colab": {
          "base_uri": "https://localhost:8080/"
        },
        "id": "5uEQ6XCn_BT7",
        "outputId": "da6fffa4-a95d-45d4-bbaa-8ea182520e33"
      },
      "execution_count": 17,
      "outputs": [
        {
          "output_type": "execute_result",
          "data": {
            "text/plain": [
              "4"
            ]
          },
          "metadata": {},
          "execution_count": 17
        }
      ]
    },
    {
      "cell_type": "markdown",
      "source": [
        "The len() function is used to find the length of the list."
      ],
      "metadata": {
        "id": "TTd8HK3u_DYD"
      }
    }
  ]
}