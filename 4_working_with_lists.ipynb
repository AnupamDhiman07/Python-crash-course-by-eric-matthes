{
  "nbformat": 4,
  "nbformat_minor": 0,
  "metadata": {
    "colab": {
      "provenance": []
    },
    "kernelspec": {
      "name": "python3",
      "display_name": "Python 3"
    },
    "language_info": {
      "name": "python"
    }
  },
  "cells": [
    {
      "cell_type": "markdown",
      "source": [
        "**CHAPTER 4: WORKING WITH LISTS**"
      ],
      "metadata": {
        "id": "bBKN-RvJofXF"
      }
    },
    {
      "cell_type": "code",
      "execution_count": 1,
      "metadata": {
        "colab": {
          "base_uri": "https://localhost:8080/"
        },
        "id": "RgeM955VoesA",
        "outputId": "6109f8e0-d109-4d12-806e-c39570178c88"
      },
      "outputs": [
        {
          "output_type": "stream",
          "name": "stdout",
          "text": [
            "alice\n",
            "david\n",
            "carolina\n"
          ]
        }
      ],
      "source": [
        "# looping through an entire list\n",
        "magicians = ['alice', 'david', 'carolina']\n",
        "for magician in magicians:\n",
        "  print(magician)"
      ]
    },
    {
      "cell_type": "markdown",
      "source": [
        "The concept of looping is important because it is one of the most common ways a computer automates repetitive tasks."
      ],
      "metadata": {
        "id": "VgL1SFWNomrF"
      }
    },
    {
      "cell_type": "code",
      "source": [
        "# Doing more work within a for loop\n",
        "magicians = ['alice', 'david', 'carolina']\n",
        "for magician in magicians:\n",
        "  print(f\"{magician.title()}, that was a great trick!\")"
      ],
      "metadata": {
        "colab": {
          "base_uri": "https://localhost:8080/"
        },
        "id": "N3o30JpHoqc1",
        "outputId": "0e3b2b05-a1fb-4106-e444-a8399c36f72e"
      },
      "execution_count": 2,
      "outputs": [
        {
          "output_type": "stream",
          "name": "stdout",
          "text": [
            "Alice, that was a great trick!\n",
            "David, that was a great trick!\n",
            "Carolina, that was a great trick!\n"
          ]
        }
      ]
    },
    {
      "cell_type": "code",
      "source": [
        "magicians= ['alice', 'david', 'carolina']\n",
        "for magician in magicians:\n",
        "  print(f\"{magician.title()}, that was a great trick!\")\n",
        "  print(f\"I can't wait to see your next trick, {magician.title()}.\\n\")"
      ],
      "metadata": {
        "colab": {
          "base_uri": "https://localhost:8080/"
        },
        "id": "Ki_6Vbwgotn9",
        "outputId": "c6ea6b19-b7ce-42ed-931b-c7562035b12d"
      },
      "execution_count": 3,
      "outputs": [
        {
          "output_type": "stream",
          "name": "stdout",
          "text": [
            "Alice, that was a great trick!\n",
            "I can't wait to see your next trick, Alice.\n",
            "\n",
            "David, that was a great trick!\n",
            "I can't wait to see your next trick, David.\n",
            "\n",
            "Carolina, that was a great trick!\n",
            "I can't wait to see your next trick, Carolina.\n",
            "\n"
          ]
        }
      ]
    },
    {
      "cell_type": "markdown",
      "source": [
        "**THE NEWLINE(\\n) IN THE SECOND PRINT() CALL INSERTS A BLANK LINE AFTER EACH PASS THROUGH THE LOOP. THIS CREATES A SET OF MESSAGES THAT ARE NEATLY GROUPED FOR EACH PERSON IN THE LIST.**"
      ],
      "metadata": {
        "id": "a5k1JgzDo05h"
      }
    },
    {
      "cell_type": "code",
      "source": [
        "magicians= ['alice','david','carolina']\n",
        "for magician in magicians:\n",
        "  print(f\"{magician.title()}, that was a grat trick!\")\n",
        "  print(f\"I can't wait to see your next trick,{magician.title()}.\\n\")\n",
        "\n",
        "print(\"Thank you, everyone. That was a great magic show!\")"
      ],
      "metadata": {
        "colab": {
          "base_uri": "https://localhost:8080/"
        },
        "id": "XYq78eBBo4u3",
        "outputId": "aedb487d-a75d-4f7f-f49b-190036ce2263"
      },
      "execution_count": 4,
      "outputs": [
        {
          "output_type": "stream",
          "name": "stdout",
          "text": [
            "Alice, that was a grat trick!\n",
            "I can't wait to see your next trick,Alice.\n",
            "\n",
            "David, that was a grat trick!\n",
            "I can't wait to see your next trick,David.\n",
            "\n",
            "Carolina, that was a grat trick!\n",
            "I can't wait to see your next trick,Carolina.\n",
            "\n",
            "Thank you, everyone. That was a great magic show!\n"
          ]
        }
      ]
    },
    {
      "cell_type": "markdown",
      "source": [
        "**MAKING NUMERICAL LISTS**\n",
        "\n",
        "The range() function in python makes it easy to generate a series of numbers. The range() function exhibits off-by-one behaviour. The range() function causes Python to start counting at the first value you give it, and it stops when it reaches the second value you provide. Because it stops at the second value, the output never contains the end value."
      ],
      "metadata": {
        "id": "8Z0oGvd_o-Z_"
      }
    },
    {
      "cell_type": "code",
      "source": [
        "for value in range(1,5):\n",
        "  print(value)"
      ],
      "metadata": {
        "colab": {
          "base_uri": "https://localhost:8080/"
        },
        "id": "jDYl_HAwpCCZ",
        "outputId": "6d7043f7-c9e6-4230-a2ce-33d2a81da042"
      },
      "execution_count": 5,
      "outputs": [
        {
          "output_type": "stream",
          "name": "stdout",
          "text": [
            "1\n",
            "2\n",
            "3\n",
            "4\n"
          ]
        }
      ]
    },
    {
      "cell_type": "code",
      "source": [
        "for value in range(1,6):\n",
        "  print(value)"
      ],
      "metadata": {
        "colab": {
          "base_uri": "https://localhost:8080/"
        },
        "id": "XMkEyX35pE1x",
        "outputId": "5c03936b-1466-40a4-bc29-4d7c69acc198"
      },
      "execution_count": 6,
      "outputs": [
        {
          "output_type": "stream",
          "name": "stdout",
          "text": [
            "1\n",
            "2\n",
            "3\n",
            "4\n",
            "5\n"
          ]
        }
      ]
    },
    {
      "cell_type": "code",
      "source": [
        "# Using range() to make a list of numbers\n",
        "numbers = list(range(1,6))\n",
        "print(numbers)"
      ],
      "metadata": {
        "colab": {
          "base_uri": "https://localhost:8080/"
        },
        "id": "PdIT-CtqpHzK",
        "outputId": "2a9b4b3f-f589-450f-e1ff-269fd69381a6"
      },
      "execution_count": 7,
      "outputs": [
        {
          "output_type": "stream",
          "name": "stdout",
          "text": [
            "[1, 2, 3, 4, 5]\n"
          ]
        }
      ]
    },
    {
      "cell_type": "code",
      "source": [
        "# range() function to generate a seies with a common difference\n",
        "numbers= list(range(2,15,2))\n",
        "print(numbers)"
      ],
      "metadata": {
        "colab": {
          "base_uri": "https://localhost:8080/"
        },
        "id": "0SuQi6DupKdR",
        "outputId": "936efbf0-d464-4b4b-8e3d-ef5687a162e4"
      },
      "execution_count": 8,
      "outputs": [
        {
          "output_type": "stream",
          "name": "stdout",
          "text": [
            "[2, 4, 6, 8, 10, 12, 14]\n"
          ]
        }
      ]
    },
    {
      "cell_type": "code",
      "source": [
        "squares = []\n",
        "for value in range(1,11):\n",
        "  square = value**2\n",
        "  squares.append(square)\n",
        "print(squares)"
      ],
      "metadata": {
        "colab": {
          "base_uri": "https://localhost:8080/"
        },
        "id": "6_6J16BhpNtl",
        "outputId": "64581827-a575-48fe-cf55-52df3b35fce1"
      },
      "execution_count": 9,
      "outputs": [
        {
          "output_type": "stream",
          "name": "stdout",
          "text": [
            "[1, 4, 9, 16, 25, 36, 49, 64, 81, 100]\n"
          ]
        }
      ]
    },
    {
      "cell_type": "code",
      "source": [
        "# To write the above program more concisely\n",
        "squares = []\n",
        "for value in range(1,11):\n",
        "  squares.append(value**2)\n",
        "print(squares)"
      ],
      "metadata": {
        "colab": {
          "base_uri": "https://localhost:8080/"
        },
        "id": "nxyGwFOtpSrr",
        "outputId": "18657f25-010a-4ba6-ce55-ec83c73f1b7a"
      },
      "execution_count": 10,
      "outputs": [
        {
          "output_type": "stream",
          "name": "stdout",
          "text": [
            "[1, 4, 9, 16, 25, 36, 49, 64, 81, 100]\n"
          ]
        }
      ]
    },
    {
      "cell_type": "code",
      "source": [
        "# Simple statistics with a list of numbers\n",
        "digits = [1,2,3,4,5,6,7,8,9,0]\n",
        "print(min(digits))\n",
        "print(max(digits))\n",
        "print(sum(digits))"
      ],
      "metadata": {
        "colab": {
          "base_uri": "https://localhost:8080/"
        },
        "id": "SLlfkbYNpWJb",
        "outputId": "12edbf41-bc09-48a9-fa3f-7fa1d655b31a"
      },
      "execution_count": 11,
      "outputs": [
        {
          "output_type": "stream",
          "name": "stdout",
          "text": [
            "0\n",
            "9\n",
            "45\n"
          ]
        }
      ]
    },
    {
      "cell_type": "code",
      "source": [
        "# A list comprehension allows you to generate the same list as above in one line of code.\n",
        "squares = [value**2 for value in range(1,11)]\n",
        "print(squares)"
      ],
      "metadata": {
        "colab": {
          "base_uri": "https://localhost:8080/"
        },
        "id": "joXUNNqnpcM9",
        "outputId": "b85db13c-b5cd-476a-ab2c-8387ef7b6bf3"
      },
      "execution_count": 12,
      "outputs": [
        {
          "output_type": "stream",
          "name": "stdout",
          "text": [
            "[1, 4, 9, 16, 25, 36, 49, 64, 81, 100]\n"
          ]
        }
      ]
    },
    {
      "cell_type": "code",
      "source": [
        "# Slicing a list\n",
        "players = ['charles', 'martina', 'michael', 'florence', 'eli']\n",
        "print(players[0:3])"
      ],
      "metadata": {
        "colab": {
          "base_uri": "https://localhost:8080/"
        },
        "id": "48QeaqgppflF",
        "outputId": "cedfa29b-7073-4a6d-c23c-f9258dc62770"
      },
      "execution_count": 13,
      "outputs": [
        {
          "output_type": "stream",
          "name": "stdout",
          "text": [
            "['charles', 'martina', 'michael']\n"
          ]
        }
      ]
    },
    {
      "cell_type": "code",
      "source": [
        "players = ['charles', 'martina', 'michael', 'florence', 'eli']\n",
        "print(players[-3:])"
      ],
      "metadata": {
        "colab": {
          "base_uri": "https://localhost:8080/"
        },
        "id": "Q6890Seeph70",
        "outputId": "822e0bd4-b31e-4ac5-8564-736d09d0f6ba"
      },
      "execution_count": 14,
      "outputs": [
        {
          "output_type": "stream",
          "name": "stdout",
          "text": [
            "['michael', 'florence', 'eli']\n"
          ]
        }
      ]
    },
    {
      "cell_type": "code",
      "source": [
        "# Looping through a slice\n",
        "players = ['charles', 'martina', 'michael', 'florence', 'eli']\n",
        "print(\"Here are the first three players on my team:\")\n",
        "for player in players[:3]:\n",
        "  print(player.title())"
      ],
      "metadata": {
        "colab": {
          "base_uri": "https://localhost:8080/"
        },
        "id": "iCP4RqQ5pkit",
        "outputId": "46452dd9-93fb-4671-b221-7156a2927862"
      },
      "execution_count": 15,
      "outputs": [
        {
          "output_type": "stream",
          "name": "stdout",
          "text": [
            "Here are the first three players on my team:\n",
            "Charles\n",
            "Martina\n",
            "Michael\n"
          ]
        }
      ]
    },
    {
      "cell_type": "code",
      "source": [
        "# Copying a list\n",
        "# To copy  a list, you can make a slice that includes the entire original list by omitting the first index and the second index\n",
        "my_foods = ['pizza', 'falafel', 'carrot cake']\n",
        "friends_foods = my_foods[:]\n",
        "print(\"My favourite foods are:\")\n",
        "print(my_foods)\n",
        "\n",
        "print(\"\\n My friend's favourite foods are:\")\n",
        "print(friends_foods)"
      ],
      "metadata": {
        "colab": {
          "base_uri": "https://localhost:8080/"
        },
        "id": "ziYg8VWFpnfj",
        "outputId": "9f09483e-2f67-44f2-b2df-5e517b10fa81"
      },
      "execution_count": 16,
      "outputs": [
        {
          "output_type": "stream",
          "name": "stdout",
          "text": [
            "My favourite foods are:\n",
            "['pizza', 'falafel', 'carrot cake']\n",
            "\n",
            " My friend's favourite foods are:\n",
            "['pizza', 'falafel', 'carrot cake']\n"
          ]
        }
      ]
    },
    {
      "cell_type": "code",
      "source": [
        "my_foods = ['pizza', 'falafel', 'carrot cake']\n",
        "friends_foods = my_foods[:]\n",
        "my_foods.append('cannoli')\n",
        "friends_foods.append('ice cream')\n",
        "print(\"My favourite foods are:\")\n",
        "print(my_foods)\n",
        "\n",
        "print(\"\\n My friend's favourite foods are:\")\n",
        "print(friends_foods)"
      ],
      "metadata": {
        "colab": {
          "base_uri": "https://localhost:8080/"
        },
        "id": "LG-uPkQppqWN",
        "outputId": "328c4412-02c6-4a04-8ef4-f8c27994713b"
      },
      "execution_count": 17,
      "outputs": [
        {
          "output_type": "stream",
          "name": "stdout",
          "text": [
            "My favourite foods are:\n",
            "['pizza', 'falafel', 'carrot cake', 'cannoli']\n",
            "\n",
            " My friend's favourite foods are:\n",
            "['pizza', 'falafel', 'carrot cake', 'ice cream']\n"
          ]
        }
      ]
    },
    {
      "cell_type": "markdown",
      "source": [
        "**TUPLE**\n",
        "\n",
        "Lists work well for storing collections of items that can change throughout the life of a program. However, sometimes you'll want to create a list of items that cannot change. Tuple allows you to do just that. Python refers to values that cannot change as immutable, and AN IMMUTABLE LIST IS CALLED A TUPLE. A tuple is just like a list except you use parenthesis instead of square brackets."
      ],
      "metadata": {
        "id": "I2nKutOgp2fk"
      }
    },
    {
      "cell_type": "code",
      "source": [
        "rectangle_dimensions = (200,50)\n",
        "print(rectangle_dimensions[0])\n",
        "print(rectangle_dimensions[1])"
      ],
      "metadata": {
        "colab": {
          "base_uri": "https://localhost:8080/"
        },
        "id": "Q-MBMjylp2L9",
        "outputId": "6bb521f2-8b56-4d4b-ad0a-718650cc8911"
      },
      "execution_count": 18,
      "outputs": [
        {
          "output_type": "stream",
          "name": "stdout",
          "text": [
            "200\n",
            "50\n"
          ]
        }
      ]
    },
    {
      "cell_type": "code",
      "source": [
        "# Looping through all values in a tuple\n",
        "dimensions = (200,50)\n",
        "for dimension in dimensions:\n",
        "  print(dimension)"
      ],
      "metadata": {
        "colab": {
          "base_uri": "https://localhost:8080/"
        },
        "id": "CDk27Yuxp_P9",
        "outputId": "6e9b5512-9b95-4fe6-cfe1-8c6d6c10423d"
      },
      "execution_count": 19,
      "outputs": [
        {
          "output_type": "stream",
          "name": "stdout",
          "text": [
            "200\n",
            "50\n"
          ]
        }
      ]
    },
    {
      "cell_type": "code",
      "source": [
        "# Writing over a tuple\n",
        "dimensions = (200,50)\n",
        "print(\"Original dimensions:\")\n",
        "for dimension in dimensions:\n",
        "  print(dimension)\n",
        "\n",
        "dimensions = (400,100)\n",
        "print(\"\\nModified dimensions:\")\n",
        "for dimension in dimensions:\n",
        "  print(dimension)"
      ],
      "metadata": {
        "colab": {
          "base_uri": "https://localhost:8080/"
        },
        "id": "jZIpKsfLqCzX",
        "outputId": "48787ef7-446b-4cec-c33d-6d67b60904f9"
      },
      "execution_count": 20,
      "outputs": [
        {
          "output_type": "stream",
          "name": "stdout",
          "text": [
            "Original dimensions:\n",
            "200\n",
            "50\n",
            "\n",
            "Modified dimensions:\n",
            "400\n",
            "100\n"
          ]
        }
      ]
    },
    {
      "cell_type": "markdown",
      "source": [
        "**TUPLE IS A SIMPLE DATA STRUCTURE. USE IT WHEN YOU WANT TO STORE A SET OF VALUES THAT SHOULD NOT BE CHANGED THROUGHOUT THE LIFE OF A PROGRAM.**"
      ],
      "metadata": {
        "id": "znACzp-0qHW4"
      }
    }
  ]
}