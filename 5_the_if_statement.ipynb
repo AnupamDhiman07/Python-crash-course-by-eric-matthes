{
  "nbformat": 4,
  "nbformat_minor": 0,
  "metadata": {
    "colab": {
      "provenance": []
    },
    "kernelspec": {
      "name": "python3",
      "display_name": "Python 3"
    },
    "language_info": {
      "name": "python"
    }
  },
  "cells": [
    {
      "cell_type": "markdown",
      "source": [
        "**CHAPTER 5: THE IF STATEMENT**\n",
        "\n",
        "Python's if statement allows you to examine the current state of the program and respond appropriately to that state."
      ],
      "metadata": {
        "id": "24zNqEucmcOD"
      }
    },
    {
      "cell_type": "code",
      "execution_count": 1,
      "metadata": {
        "colab": {
          "base_uri": "https://localhost:8080/"
        },
        "id": "_RtXDLrbmYxB",
        "outputId": "8cb3e380-938d-4551-9689-35d586b812de"
      },
      "outputs": [
        {
          "output_type": "stream",
          "name": "stdout",
          "text": [
            "Audi\n",
            "BMW\n",
            "Subaru\n",
            "Toyota\n"
          ]
        }
      ],
      "source": [
        "cars = ['audi', 'bmw', 'subaru', 'toyota']\n",
        "for car in cars:\n",
        "  if car == 'bmw':\n",
        "    print(car.upper())\n",
        "  else:\n",
        "    print(car.title())"
      ]
    },
    {
      "cell_type": "code",
      "source": [
        "# CHECKING IF A VALUE IS IN THE LIST\n",
        "requested_toppings = ['mushrooms', 'pineapple', 'pepperoni']\n",
        "'mushrooms' in requested_toppings"
      ],
      "metadata": {
        "colab": {
          "base_uri": "https://localhost:8080/"
        },
        "id": "7o13_DLkmk8x",
        "outputId": "58a72a35-4f52-43b9-86e8-016cf7e942a7"
      },
      "execution_count": 2,
      "outputs": [
        {
          "output_type": "execute_result",
          "data": {
            "text/plain": [
              "True"
            ]
          },
          "metadata": {},
          "execution_count": 2
        }
      ]
    },
    {
      "cell_type": "code",
      "source": [
        "requested_pepperoni = ['mushrooms', 'pepperoni', 'pineapple']\n",
        "'onion' in requested_toppings"
      ],
      "metadata": {
        "colab": {
          "base_uri": "https://localhost:8080/"
        },
        "id": "vTgDPIsGmngR",
        "outputId": "09d8b1f6-da3a-49bc-fc5f-be8033a92f9c"
      },
      "execution_count": 3,
      "outputs": [
        {
          "output_type": "execute_result",
          "data": {
            "text/plain": [
              "False"
            ]
          },
          "metadata": {},
          "execution_count": 3
        }
      ]
    },
    {
      "cell_type": "code",
      "source": [
        "# CHECKING WHETHER A VALUE IS NOT IN A LIST\n",
        "banned_users = ['andrew', 'carolina', 'david']\n",
        "user = 'marie'\n",
        "if user not in banned_users:\n",
        "  print(f\"{user.title()}, you can post a response if you wish\")"
      ],
      "metadata": {
        "colab": {
          "base_uri": "https://localhost:8080/"
        },
        "id": "ENug1ikCmqeE",
        "outputId": "9b2adbc3-3079-4357-aa58-84a83cfcfc3b"
      },
      "execution_count": 4,
      "outputs": [
        {
          "output_type": "stream",
          "name": "stdout",
          "text": [
            "Marie, you can post a response if you wish\n"
          ]
        }
      ]
    },
    {
      "cell_type": "markdown",
      "source": [
        "A **boolean** expression is another name for a conditional test."
      ],
      "metadata": {
        "id": "Pdn6xwjNmtWu"
      }
    },
    {
      "cell_type": "code",
      "source": [
        "age = 19\n",
        "if age >=18:\n",
        "  print('You are old enough to vote!')\n",
        "  print(\"have you registered to vote yet?\")\n",
        "else:\n",
        "  print(\"Sorry, you are too young to vote.\")\n",
        "  print(\"Please register to vote as soon as you turn 18!\")"
      ],
      "metadata": {
        "colab": {
          "base_uri": "https://localhost:8080/"
        },
        "id": "sE-6pJWUmxgQ",
        "outputId": "89381423-c563-4cdd-ca1c-fc4267d71539"
      },
      "execution_count": 5,
      "outputs": [
        {
          "output_type": "stream",
          "name": "stdout",
          "text": [
            "You are old enough to vote!\n",
            "have you registered to vote yet?\n"
          ]
        }
      ]
    },
    {
      "cell_type": "code",
      "source": [
        "age=12\n",
        "if age<4:\n",
        "  print(\"Your admission cost is $0.\")\n",
        "elif age<18:\n",
        "  print(\"Your admisssion cost is $25.\")\n",
        "else:\n",
        "  print(\"Your admission cost is $40.\")"
      ],
      "metadata": {
        "colab": {
          "base_uri": "https://localhost:8080/"
        },
        "id": "Q7ZrXcOkm0dW",
        "outputId": "3c543726-d1e2-4a41-eb99-e3a12ba54115"
      },
      "execution_count": 6,
      "outputs": [
        {
          "output_type": "stream",
          "name": "stdout",
          "text": [
            "Your admisssion cost is $25.\n"
          ]
        }
      ]
    },
    {
      "cell_type": "code",
      "source": [
        "age=12\n",
        "if age<4:\n",
        "  price=0\n",
        "elif age<18:\n",
        "  price=25\n",
        "else:\n",
        "  price=40\n",
        "print(f\"Your admission cost is ${price}\")"
      ],
      "metadata": {
        "colab": {
          "base_uri": "https://localhost:8080/"
        },
        "id": "xjdPCogtm5v3",
        "outputId": "d13dfbbf-b178-41c8-ff08-fe0434607b84"
      },
      "execution_count": 7,
      "outputs": [
        {
          "output_type": "stream",
          "name": "stdout",
          "text": [
            "Your admission cost is $25\n"
          ]
        }
      ]
    },
    {
      "cell_type": "code",
      "source": [
        "requested_toppings = ['mushrooms', 'pepperoni', 'extra cheese', 'onions']\n",
        "if 'mushrooms' in requested_toppings:\n",
        "  print(\"Adding mushrooms.\")\n",
        "if 'pepperoni' in requested_toppings:\n",
        "  print(\"Adding pepperoni.\")\n",
        "if 'extra cheese' in requested_toppings:\n",
        "  print(\"Adding extra cheese.\")\n",
        "\n",
        "print(\"\\nFinished making your pizza!\")"
      ],
      "metadata": {
        "colab": {
          "base_uri": "https://localhost:8080/"
        },
        "id": "N21sbmGim-sC",
        "outputId": "cc5ecaeb-57b6-444c-cdc2-de21636938c9"
      },
      "execution_count": 8,
      "outputs": [
        {
          "output_type": "stream",
          "name": "stdout",
          "text": [
            "Adding mushrooms.\n",
            "Adding pepperoni.\n",
            "Adding extra cheese.\n",
            "\n",
            "Finished making your pizza!\n"
          ]
        }
      ]
    },
    {
      "cell_type": "markdown",
      "source": [
        "**IF YOU WANT ONLY ONE BLOCK OF YOUR CODE TO RUN, USE AN if-elif-else CHAIN. IF MORE THAN ONE BLOCK OF CODE NEEDS TO RUN, USE A SERIES OF INDEPENDENT if STATEMENTS.**"
      ],
      "metadata": {
        "id": "UHYt-hJpnC2v"
      }
    },
    {
      "cell_type": "code",
      "source": [
        "requested_toppings = ['mushrooms', 'green peppers', 'extra cheese']\n",
        "for requested_topping in requested_toppings:\n",
        "  print(f\"Adding {requested_topping}.\")\n",
        "print(\"\\n Finished making your pizza!\")"
      ],
      "metadata": {
        "colab": {
          "base_uri": "https://localhost:8080/"
        },
        "id": "VVA_i33TnECA",
        "outputId": "282b6859-6314-48cb-f712-b11657fe271d"
      },
      "execution_count": 9,
      "outputs": [
        {
          "output_type": "stream",
          "name": "stdout",
          "text": [
            "Adding mushrooms.\n",
            "Adding green peppers.\n",
            "Adding extra cheese.\n",
            "\n",
            " Finished making your pizza!\n"
          ]
        }
      ]
    },
    {
      "cell_type": "code",
      "source": [
        "requested_toppings = ['mushrooms', 'green peppers', 'extra cheese']\n",
        "for requested_topping in requested_toppings:\n",
        "  if requested_topping == 'green peppers':\n",
        "    print(\"Sorry, we are out of green peppers right now.\")\n",
        "  else:\n",
        "    print(f\"Adding {requested_topping}.\")\n",
        "print(\"\\nFinished making your pizza!\")"
      ],
      "metadata": {
        "colab": {
          "base_uri": "https://localhost:8080/"
        },
        "id": "BP7ursspnIaw",
        "outputId": "fb5a1669-1bfc-4c59-9cdd-cc6fefd83293"
      },
      "execution_count": 10,
      "outputs": [
        {
          "output_type": "stream",
          "name": "stdout",
          "text": [
            "Adding mushrooms.\n",
            "Sorry, we are out of green peppers right now.\n",
            "Adding extra cheese.\n",
            "\n",
            "Finished making your pizza!\n"
          ]
        }
      ]
    },
    {
      "cell_type": "code",
      "source": [
        "# USING MULTIPLE LISTS\n",
        "available_toppings = ['mushrooms', 'olives', 'green peppers', 'pepperoni',\n",
        "                      'pineapple', 'extra cheese']\n",
        "requested_toppings = ['mushrooms', 'french fries', 'extra cheese']\n",
        "for requested_topping in requested_toppings:\n",
        "  if requested_topping in available_toppings:\n",
        "    print(f\"Adding {requested_topping}.\")\n",
        "  else:\n",
        "    print(f\"Sorry,we don't have {requested_topping}.\")\n",
        "print(\"\\nFinished making your pizza!\")"
      ],
      "metadata": {
        "colab": {
          "base_uri": "https://localhost:8080/"
        },
        "id": "ZfbYGUfenLnR",
        "outputId": "fb8dd6fc-4b5b-41f6-8aaa-c87e0d11bc85"
      },
      "execution_count": 11,
      "outputs": [
        {
          "output_type": "stream",
          "name": "stdout",
          "text": [
            "Adding mushrooms.\n",
            "Sorry,we don't have french fries.\n",
            "Adding extra cheese.\n",
            "\n",
            "Finished making your pizza!\n"
          ]
        }
      ]
    }
  ]
}