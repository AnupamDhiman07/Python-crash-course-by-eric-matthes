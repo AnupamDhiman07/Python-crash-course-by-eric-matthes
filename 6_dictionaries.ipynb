{
  "nbformat": 4,
  "nbformat_minor": 0,
  "metadata": {
    "colab": {
      "provenance": []
    },
    "kernelspec": {
      "name": "python3",
      "display_name": "Python 3"
    },
    "language_info": {
      "name": "python"
    }
  },
  "cells": [
    {
      "cell_type": "markdown",
      "source": [
        "**CHAPTER 6: DICTIONARIES**\n",
        "\n",
        "A **dictionary** in python is a collection of key-value pairs. Each key is connected to a value, and you can use a key to access the value associated with that key. A key's value can be a number, a string, a list, or even another dictionary. In fact, you can use any object that you can create in python as a value in a dictionary.\n",
        "\n",
        "A key-value pair is a set of values associated with each other. When you provide a key, python returns the value associated with that key. Every key is connected to its value by a colon, and individual key-value pairs are separated by commas. You can store as many key-value pairs as you want in a dictionary."
      ],
      "metadata": {
        "id": "XVTbV_sEoB8a"
      }
    },
    {
      "cell_type": "code",
      "execution_count": 1,
      "metadata": {
        "colab": {
          "base_uri": "https://localhost:8080/"
        },
        "id": "o-bCnkosn9iI",
        "outputId": "76d7a973-4095-4c45-d0ec-00e26ed244c4"
      },
      "outputs": [
        {
          "output_type": "stream",
          "name": "stdout",
          "text": [
            "green\n",
            "5\n"
          ]
        }
      ],
      "source": [
        "alien_0 = {'color': 'green', 'points': 5}\n",
        "print(alien_0['color'])\n",
        "print(alien_0['points'])"
      ]
    },
    {
      "cell_type": "code",
      "source": [
        "alien_0 = {'color': 'green', 'points': 5}\n",
        "new_points = alien_0['points']\n",
        "print(f'You have just earned {new_points} points.')"
      ],
      "metadata": {
        "colab": {
          "base_uri": "https://localhost:8080/"
        },
        "id": "YpdbzaXuoOCv",
        "outputId": "59742e8d-0483-443b-e40d-aec0f99743e8"
      },
      "execution_count": 2,
      "outputs": [
        {
          "output_type": "stream",
          "name": "stdout",
          "text": [
            "You have just earned 5 points.\n"
          ]
        }
      ]
    },
    {
      "cell_type": "code",
      "source": [
        "# ADDING NEW KEY-VALUE PAIRS\n",
        "alien_0 = {'color':'green', 'points':5}\n",
        "alien_0['x_position'] = 0\n",
        "alien_0['y_position'] = 25\n",
        "print(alien_0)"
      ],
      "metadata": {
        "colab": {
          "base_uri": "https://localhost:8080/"
        },
        "id": "qse92tcloSkA",
        "outputId": "39666c12-4444-4f84-8932-ca7b6ec5246f"
      },
      "execution_count": 3,
      "outputs": [
        {
          "output_type": "stream",
          "name": "stdout",
          "text": [
            "{'color': 'green', 'points': 5, 'x_position': 0, 'y_position': 25}\n"
          ]
        }
      ]
    },
    {
      "cell_type": "code",
      "source": [
        "# STARTING WITH AN EMPTY DICTIONARY\n",
        "alien_0 = {}\n",
        "alien_0['color'] = 'green'\n",
        "alien_0['points'] = '5'\n",
        "print(alien_0)"
      ],
      "metadata": {
        "colab": {
          "base_uri": "https://localhost:8080/"
        },
        "id": "bLiKqoNVoWXo",
        "outputId": "c2dde150-b8d2-43f7-cf07-e674ded58567"
      },
      "execution_count": 4,
      "outputs": [
        {
          "output_type": "stream",
          "name": "stdout",
          "text": [
            "{'color': 'green', 'points': '5'}\n"
          ]
        }
      ]
    },
    {
      "cell_type": "code",
      "source": [
        "# MODIFYING VALUES IN A DICTIONARY\n",
        "alien_0 = {'color': 'green'}\n",
        "print(f\"The alien is {alien_0['color']}.\")\n",
        "\n",
        "alien_0['color'] = 'yellow'\n",
        "print(f\"The alien is now {alien_0['color']}.\")"
      ],
      "metadata": {
        "colab": {
          "base_uri": "https://localhost:8080/"
        },
        "id": "kBkZeXrioZLw",
        "outputId": "45694044-8e89-4957-99d7-42ffd5ff8fe3"
      },
      "execution_count": 6,
      "outputs": [
        {
          "output_type": "stream",
          "name": "stdout",
          "text": [
            "The alien is green.\n",
            "The alien is now yellow.\n"
          ]
        }
      ]
    },
    {
      "cell_type": "code",
      "source": [
        "# to track the position of an alien that can move at different speeds\n",
        "alien_0 = {'x_position': 0, 'y_position':25, 'speed':'medium'}\n",
        "print(f\"Original position: {alien_0['x_position']}\")\n",
        "# move the alien to the right\n",
        "# determine how far to move the alien based on its current speed\n",
        "if alien_0['speed'] == 'slow':\n",
        "  x_increment = 1\n",
        "elif alien_0['speed'] == 'medium':\n",
        "  x_increment = 2\n",
        "else:\n",
        "  # this must be a very fast alien\n",
        "  x_increment = 3\n",
        "\n",
        "# The new position is the old position plus the increment\n",
        "alien_0['x_position'] = alien_0['x_position']+x_increment\n",
        "print(f\"New position: {alien_0['x_position']}\")"
      ],
      "metadata": {
        "colab": {
          "base_uri": "https://localhost:8080/"
        },
        "id": "ZNytNlfBojVH",
        "outputId": "98265732-01b2-4e33-fc8c-d468e3d97df0"
      },
      "execution_count": 7,
      "outputs": [
        {
          "output_type": "stream",
          "name": "stdout",
          "text": [
            "Original position: 0\n",
            "New position: 2\n"
          ]
        }
      ]
    },
    {
      "cell_type": "code",
      "source": [
        "# REMOVING KEY-VALLUE PAIRS\n",
        "alien_0 = {'color':'green', 'points':5}\n",
        "print(alien_0)\n",
        "del alien_0['points']\n",
        "print(alien_0)"
      ],
      "metadata": {
        "colab": {
          "base_uri": "https://localhost:8080/"
        },
        "id": "afLGdFv2omZP",
        "outputId": "0bf7221b-fa7e-4b85-9e12-9da8462fea5f"
      },
      "execution_count": 8,
      "outputs": [
        {
          "output_type": "stream",
          "name": "stdout",
          "text": [
            "{'color': 'green', 'points': 5}\n",
            "{'color': 'green'}\n"
          ]
        }
      ]
    },
    {
      "cell_type": "markdown",
      "source": [
        "**BE AWARE THAT THE DELETED KEY-VALUE PAIR IS REMOVED PERMANENTLY**"
      ],
      "metadata": {
        "id": "_uyxrtQ3oqH4"
      }
    },
    {
      "cell_type": "code",
      "source": [
        "# A DICTIONARY OF SIMILAR OBJECTS\n",
        "favourite_languages = {\n",
        "    'jen':'python',\n",
        "    'sarah':'c',\n",
        "    'edward':'ruby',\n",
        "    'phil':'python'\n",
        "  }\n",
        "language = favourite_languages['sarah'].title()\n",
        "print(f\"Sarah's favourite language is {language}.\")"
      ],
      "metadata": {
        "colab": {
          "base_uri": "https://localhost:8080/"
        },
        "id": "mwFDUS7gowUX",
        "outputId": "e2d3aab5-a7d1-479e-f46c-3616dbbe69dd"
      },
      "execution_count": 9,
      "outputs": [
        {
          "output_type": "stream",
          "name": "stdout",
          "text": [
            "Sarah's favourite language is C.\n"
          ]
        }
      ]
    },
    {
      "cell_type": "code",
      "source": [
        "# USING get() TO ACCESS VALUES\n",
        "alien_0 = {'color':'green', 'speed':'slow'}\n",
        "point_value = alien_0.get('points','No point value assigned.')\n",
        "print(point_value)"
      ],
      "metadata": {
        "colab": {
          "base_uri": "https://localhost:8080/"
        },
        "id": "NQk7o9pmo0V-",
        "outputId": "3281d0aa-8256-4f13-b24f-715c312f08c4"
      },
      "execution_count": 10,
      "outputs": [
        {
          "output_type": "stream",
          "name": "stdout",
          "text": [
            "No point value assigned.\n"
          ]
        }
      ]
    },
    {
      "cell_type": "markdown",
      "source": [
        "The **get()** method is used to set a default value that will be returned if the requested key doesn't exist.\n",
        "\n",
        "The **get()** method requires a key as a first argument. As a second optional argument, you can pass the value to be returned if the key doesn't exist.\n",
        "\n",
        "If you leave out the second argument in the call to **get()** and the key doesn't exist, Python will return the value None."
      ],
      "metadata": {
        "id": "WP7gzoV8o3RA"
      }
    },
    {
      "cell_type": "code",
      "source": [
        "# LOOPING THROUGH DICTIONARIES\n",
        "user_0 ={\n",
        "    'username':'efermi',\n",
        "    'first':'enrico',\n",
        "    'last':'fermi'\n",
        "    }\n",
        "for key,value in user_0.items():\n",
        "  print(f'\\nKey:{key}')\n",
        "  print(f'Value:{value}')"
      ],
      "metadata": {
        "colab": {
          "base_uri": "https://localhost:8080/"
        },
        "id": "6Ei3TIK7o96Y",
        "outputId": "b2ea5fe6-ee8e-4d11-9605-6ce29b06e81d"
      },
      "execution_count": 11,
      "outputs": [
        {
          "output_type": "stream",
          "name": "stdout",
          "text": [
            "\n",
            "Key:username\n",
            "Value:efermi\n",
            "\n",
            "Key:first\n",
            "Value:enrico\n",
            "\n",
            "Key:last\n",
            "Value:fermi\n"
          ]
        }
      ]
    },
    {
      "cell_type": "code",
      "source": [
        "# Looping through the favourite programming languagr pair\n",
        "favourite_languages = {\n",
        "    'jen':'python',\n",
        "    'sarah':'c',\n",
        "    'edward':'ruby',\n",
        "    'phil':'python'\n",
        "    }\n",
        "for name,language in favourite_languages.items():\n",
        " print(f\"{name.title()}'s favourite language is {language.title()}.\")"
      ],
      "metadata": {
        "colab": {
          "base_uri": "https://localhost:8080/"
        },
        "id": "EvgY1YJCpC0Y",
        "outputId": "13b50b2b-7048-42b4-cd74-3d2e9d1645b5"
      },
      "execution_count": 12,
      "outputs": [
        {
          "output_type": "stream",
          "name": "stdout",
          "text": [
            "Jen's favourite language is Python.\n",
            "Sarah's favourite language is C.\n",
            "Edward's favourite language is Ruby.\n",
            "Phil's favourite language is Python.\n"
          ]
        }
      ]
    },
    {
      "cell_type": "markdown",
      "source": [
        "THE **items()** RETURNS A LIST OF KEY VALUE PAIRS."
      ],
      "metadata": {
        "id": "eBnXjcXspGsX"
      }
    },
    {
      "cell_type": "code",
      "source": [
        "# LOOPING THROUGH ALL THE KEYS IN A DICTIONARY\n",
        "favourite_languages = {\n",
        "    'jen':'python',\n",
        "    'sarah':'c',\n",
        "    'edward':'ruby',\n",
        "    'phil':'python'\n",
        "    }\n",
        "for name in favourite_languages.keys():\n",
        "  print(name.title())"
      ],
      "metadata": {
        "colab": {
          "base_uri": "https://localhost:8080/"
        },
        "id": "vHD49u_dpJhB",
        "outputId": "0d0dab92-8f9d-4f7f-ef48-3cb4127e5064"
      },
      "execution_count": 13,
      "outputs": [
        {
          "output_type": "stream",
          "name": "stdout",
          "text": [
            "Jen\n",
            "Sarah\n",
            "Edward\n",
            "Phil\n"
          ]
        }
      ]
    },
    {
      "cell_type": "code",
      "source": [
        "favourite_languages = {\n",
        "    'jen':'python',\n",
        "    'sarah':'c',\n",
        "    'edward':'ruby',\n",
        "    'phil':'python'\n",
        "    }\n",
        "friends = ['phil', 'sarah']\n",
        "for name in favourite_languages.keys():\n",
        "  print(name.title())\n",
        "\n",
        "  if name in friends:\n",
        "    language = favourite_languages[name].title()\n",
        "    print(f\"\\t{name.title()}, I see you love {language}!\")"
      ],
      "metadata": {
        "colab": {
          "base_uri": "https://localhost:8080/"
        },
        "id": "1xkHhVJ0pMBP",
        "outputId": "714e33b6-7213-4d16-aec9-9d0c2ef5f542"
      },
      "execution_count": 14,
      "outputs": [
        {
          "output_type": "stream",
          "name": "stdout",
          "text": [
            "Jen\n",
            "Sarah\n",
            "\tSarah, I see you love C!\n",
            "Edward\n",
            "Phil\n",
            "\tPhil, I see you love Python!\n"
          ]
        }
      ]
    },
    {
      "cell_type": "code",
      "source": [
        "favourite_languages = {\n",
        "    'jen':'python',\n",
        "    'sarah':'c',\n",
        "    'edward':'ruby',\n",
        "    'phil':'python'\n",
        "    }\n",
        "if 'erin' not in favourite_languages.keys():\n",
        "  print('Erin, please take your poll!')"
      ],
      "metadata": {
        "colab": {
          "base_uri": "https://localhost:8080/"
        },
        "id": "N9pdf4O_pQUY",
        "outputId": "4cfe23c1-cd9f-44d5-8185-9a0acb25bf0b"
      },
      "execution_count": 15,
      "outputs": [
        {
          "output_type": "stream",
          "name": "stdout",
          "text": [
            "Erin, please take your poll!\n"
          ]
        }
      ]
    },
    {
      "cell_type": "code",
      "source": [
        "# LOOPING THROUGH A DICTIONARY'S KEYS IN A PARTICULAR ORDER\n",
        "favourite_languages = {\n",
        "    'jen':'python',\n",
        "    'sarah':'c',\n",
        "    'edward':'ruby',\n",
        "    'phil':'python'\n",
        "    }\n",
        "for name in sorted(favourite_languages.keys()):\n",
        "  print(f\"{name.title()}, thank you for taking the poll.\")"
      ],
      "metadata": {
        "colab": {
          "base_uri": "https://localhost:8080/"
        },
        "id": "KXjmeSD5pTdv",
        "outputId": "dd70a607-eb97-4827-b8e3-d19f514a2e76"
      },
      "execution_count": 16,
      "outputs": [
        {
          "output_type": "stream",
          "name": "stdout",
          "text": [
            "Edward, thank you for taking the poll.\n",
            "Jen, thank you for taking the poll.\n",
            "Phil, thank you for taking the poll.\n",
            "Sarah, thank you for taking the poll.\n"
          ]
        }
      ]
    },
    {
      "cell_type": "code",
      "source": [
        "# LOOPING THROUGH ALL VALUES IN A DICTIONARY\n",
        "favourite_languages = {\n",
        "    'jen':'python',\n",
        "    'sarah':'c',\n",
        "    'edward':'ruby',\n",
        "    'phil':'python'\n",
        "    }\n",
        "print(\"the following languages have been mentioned:\")\n",
        "for language in set(favourite_languages.values()):\n",
        "  print(language.title())"
      ],
      "metadata": {
        "colab": {
          "base_uri": "https://localhost:8080/"
        },
        "id": "IPGUxK55pW8f",
        "outputId": "a501ed7f-b22c-4d42-e8a2-624fdc021d6e"
      },
      "execution_count": 17,
      "outputs": [
        {
          "output_type": "stream",
          "name": "stdout",
          "text": [
            "the following languages have been mentioned:\n",
            "Ruby\n",
            "Python\n",
            "C\n"
          ]
        }
      ]
    },
    {
      "cell_type": "markdown",
      "source": [
        "When you wrap set() around a list that contains duplicate items, Python identifies the unique items in the list and builds a set from those items. At u we use set() to pull out the unique languages in favorite_ languages.values(). The result is a nonrepetitive list of languages that have been mentioned by people taking the poll"
      ],
      "metadata": {
        "id": "vL3pZTalpbX_"
      }
    },
    {
      "cell_type": "markdown",
      "source": [
        "**UNLIKE LISTS AND DICTIONARIES SETS DO NOT RETAIN ITEMS IN ANY SPECIFIC ORDER**"
      ],
      "metadata": {
        "id": "yDJ9bw4cpeyX"
      }
    }
  ]
}