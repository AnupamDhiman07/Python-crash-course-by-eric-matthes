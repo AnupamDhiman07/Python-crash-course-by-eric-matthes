{
  "nbformat": 4,
  "nbformat_minor": 0,
  "metadata": {
    "colab": {
      "provenance": []
    },
    "kernelspec": {
      "name": "python3",
      "display_name": "Python 3"
    },
    "language_info": {
      "name": "python"
    }
  },
  "cells": [
    {
      "cell_type": "markdown",
      "source": [
        "**CHAPTER 7: USER INPUT AND WHILE LOOPS**"
      ],
      "metadata": {
        "id": "GXCURhDUqiF3"
      }
    },
    {
      "cell_type": "code",
      "execution_count": 1,
      "metadata": {
        "colab": {
          "base_uri": "https://localhost:8080/"
        },
        "id": "t9TNvwXTqPXO",
        "outputId": "06e124d8-cc39-46a6-df2d-017a18660442"
      },
      "outputs": [
        {
          "output_type": "stream",
          "name": "stdout",
          "text": [
            "Tell me something and I will repeat it back to you : i am learning python>\n",
            "i am learning python>\n"
          ]
        }
      ],
      "source": [
        "# HOW THE INPUT FUNCTION WORKS?\n",
        "message = input(\"Tell me something and I will repeat it back to you : \")\n",
        "print(message)"
      ]
    },
    {
      "cell_type": "code",
      "source": [
        "# Writing clear prompts\n",
        "name = input(\"Please enter your name: \")\n",
        "print(f\"\\nHello, {name}\")"
      ],
      "metadata": {
        "colab": {
          "base_uri": "https://localhost:8080/"
        },
        "id": "3JOzV7xQqqyc",
        "outputId": "90dccffc-698d-4173-978e-69be7fd8a525"
      },
      "execution_count": 2,
      "outputs": [
        {
          "output_type": "stream",
          "name": "stdout",
          "text": [
            "Please enter your name: eric\n",
            "\n",
            "Hello, eric\n"
          ]
        }
      ]
    },
    {
      "cell_type": "code",
      "source": [
        "# Way to write a prompt that is longer than one line\n",
        "prompt = \"If you tell us your name, we can personalize the messages you see.\"\n",
        "prompt+= \"\\nWhat is your name? \"\n",
        "name = input(prompt)\n",
        "print(f\"\\nHello, {name}!\")"
      ],
      "metadata": {
        "colab": {
          "base_uri": "https://localhost:8080/"
        },
        "id": "xbsYcPyCqy1l",
        "outputId": "a5165527-1a2b-4d27-a03e-12b4d8780c9c"
      },
      "execution_count": 3,
      "outputs": [
        {
          "output_type": "stream",
          "name": "stdout",
          "text": [
            "If you tell us your name, we can personalize the messages you see.\n",
            "What is your name? Eric\n",
            "\n",
            "Hello, Eric!\n"
          ]
        }
      ]
    },
    {
      "cell_type": "code",
      "source": [
        "age=int(input(\"How old are you? \"))\n",
        "age>=18"
      ],
      "metadata": {
        "colab": {
          "base_uri": "https://localhost:8080/"
        },
        "id": "QHhKIbN0q3PE",
        "outputId": "1e7e3974-74f9-4395-ac58-84e6ce1bae5e"
      },
      "execution_count": 4,
      "outputs": [
        {
          "name": "stdout",
          "output_type": "stream",
          "text": [
            "How old are you? 28\n"
          ]
        },
        {
          "output_type": "execute_result",
          "data": {
            "text/plain": [
              "True"
            ]
          },
          "metadata": {},
          "execution_count": 4
        }
      ]
    },
    {
      "cell_type": "code",
      "source": [
        "height = int(input(\"How tall are you, in inches? \"))\n",
        "if height >= 48:\n",
        "  print(\"\\nYou are tall enough to ride!\")\n",
        "else:\n",
        "  print(\"\\nYou'll be able to ride when you're a little older.\")"
      ],
      "metadata": {
        "colab": {
          "base_uri": "https://localhost:8080/"
        },
        "id": "RiKOPFLSq6_8",
        "outputId": "e6811569-649a-4f49-98e8-e7e1717e95a1"
      },
      "execution_count": 5,
      "outputs": [
        {
          "output_type": "stream",
          "name": "stdout",
          "text": [
            "How tall are you, in inches? 47\n",
            "\n",
            "You'll be able to ride when you're a little older.\n"
          ]
        }
      ]
    },
    {
      "cell_type": "code",
      "source": [
        "# Modulo Operator\n",
        "number = input(\"Enter a number, and I'll tell you if it's even or odd: \")\n",
        "number = int(number)\n",
        "\n",
        "if number%2 == 0:\n",
        "  print(f\"\\nThe number {number} is even.\")\n",
        "else:\n",
        "  print(f\"\\nThe number {number} is odd.\")"
      ],
      "metadata": {
        "colab": {
          "base_uri": "https://localhost:8080/"
        },
        "id": "AaUw7D20rBEM",
        "outputId": "ee092271-a48f-4617-c312-0a71a09c8bf1"
      },
      "execution_count": 6,
      "outputs": [
        {
          "output_type": "stream",
          "name": "stdout",
          "text": [
            "Enter a number, and I'll tell you if it's even or odd: 56\n",
            "\n",
            "The number 56 is even.\n"
          ]
        }
      ]
    },
    {
      "cell_type": "markdown",
      "source": [
        "**INTRODUCING WHILE LOOPS**\n",
        "\n",
        "The for loop takes a clooection of items and executes a block of code once for each item in the collection. In contrast, the while loop runs as long as, or while, a certain condition is true."
      ],
      "metadata": {
        "id": "ZlIy8I5UrFPW"
      }
    },
    {
      "cell_type": "code",
      "source": [
        "# WHILE LOOP IN ACTION\n",
        "current_number = 1\n",
        "while current_number <=5:\n",
        "  print(current_number)\n",
        "  current_number +=1"
      ],
      "metadata": {
        "colab": {
          "base_uri": "https://localhost:8080/"
        },
        "id": "f3ymx8n1rJEV",
        "outputId": "3a369f60-cc90-4610-84b4-9e18d181a092"
      },
      "execution_count": 7,
      "outputs": [
        {
          "output_type": "stream",
          "name": "stdout",
          "text": [
            "1\n",
            "2\n",
            "3\n",
            "4\n",
            "5\n"
          ]
        }
      ]
    },
    {
      "cell_type": "code",
      "source": [
        "# Letting the user choose when to quit\n",
        "\n",
        "prompt = \"\\nTell me something, and i will repeat it back to you:\"\n",
        "prompt +=\"\\nEnter 'quit' to end the program. \"\n",
        "message = ''\n",
        "while message != 'quit':\n",
        "  message = input(prompt)\n",
        "  print(message)"
      ],
      "metadata": {
        "colab": {
          "base_uri": "https://localhost:8080/"
        },
        "id": "-_H7y1NOrL_o",
        "outputId": "ce43cb01-16b6-406a-e95f-215e6ba04b80"
      },
      "execution_count": 8,
      "outputs": [
        {
          "output_type": "stream",
          "name": "stdout",
          "text": [
            "\n",
            "Tell me something, and i will repeat it back to you:\n",
            "Enter 'quit' to end the program. hi\n",
            "hi\n",
            "\n",
            "Tell me something, and i will repeat it back to you:\n",
            "Enter 'quit' to end the program. quit\n",
            "quit\n"
          ]
        }
      ]
    },
    {
      "cell_type": "code",
      "source": [
        "# Using a flag\n",
        "prompt = \"\\nTell me something, and i will repeat it back to you:\"\n",
        "prompt +=\"\\nEnter 'quit' to end the program. \"\n",
        "active = True\n",
        "while active:\n",
        "  message = input(prompt)\n",
        "  if message == 'quit':\n",
        "    active =False\n",
        "  else:\n",
        "    print(message)"
      ],
      "metadata": {
        "colab": {
          "base_uri": "https://localhost:8080/"
        },
        "id": "GdQBOg_krRCE",
        "outputId": "4a91c907-7c6a-4034-ab1e-c33603de56c9"
      },
      "execution_count": 9,
      "outputs": [
        {
          "name": "stdout",
          "output_type": "stream",
          "text": [
            "\n",
            "Tell me something, and i will repeat it back to you:\n",
            "Enter 'quit' to end the program. quit\n"
          ]
        }
      ]
    },
    {
      "cell_type": "code",
      "source": [
        "# Using break to exit a loop\n",
        "prompt = \"\\nPlease enter the name of the city you have visited:\"\n",
        "prompt +=\"\\nEnter 'quit' when you are finished. \"\n",
        "while True:\n",
        "  city = input(prompt)\n",
        "  if city == 'quit':\n",
        "    break\n",
        "  else:\n",
        "    print(f\"I'd love to go to {city.title()}!\")"
      ],
      "metadata": {
        "colab": {
          "base_uri": "https://localhost:8080/"
        },
        "id": "N6cDVHBXrc0d",
        "outputId": "6aa9d7a7-9fb3-4925-8271-2c45da37a284"
      },
      "execution_count": 10,
      "outputs": [
        {
          "name": "stdout",
          "output_type": "stream",
          "text": [
            "\n",
            "Please enter the name of the city you have visited:\n",
            "Enter 'quit' when you are finished. New YYork\n",
            "I'd love to go to New Yyork!\n",
            "\n",
            "Please enter the name of the city you have visited:\n",
            "Enter 'quit' when you are finished. quit\n"
          ]
        }
      ]
    },
    {
      "cell_type": "code",
      "source": [
        "# Using continue in a loop\n",
        "current_number = 0\n",
        "while current_number <10:\n",
        "  current_number += 1\n",
        "  if current_number % 2 == 0:\n",
        "    continue\n",
        "  print(current_number)"
      ],
      "metadata": {
        "colab": {
          "base_uri": "https://localhost:8080/"
        },
        "id": "heN7DXurrimV",
        "outputId": "c25b83d1-0763-4dfa-bcd0-aa193b3a247f"
      },
      "execution_count": 11,
      "outputs": [
        {
          "output_type": "stream",
          "name": "stdout",
          "text": [
            "1\n",
            "3\n",
            "5\n",
            "7\n",
            "9\n"
          ]
        }
      ]
    },
    {
      "cell_type": "code",
      "source": [
        "# Moving items from one list to another\n",
        "\n",
        "# Start with users that need to be verified,\n",
        "# and an empty list to hold confirmed users.\n",
        "unconfirmed_users = ['alice','brian','candace']\n",
        "confirmed_users = []\n",
        "\n",
        "# Verify each user until there are no more unconfirmed users.\n",
        "# Move each verified user into the list of unconfirmed users.\n",
        "while unconfirmed_users:\n",
        "  current_user = unconfirmed_users.pop()\n",
        "\n",
        "  print(f\"Verifying user: {current_user.title()}\")\n",
        "  confirmed_users.append(current_user)\n",
        "\n",
        "# Display all confirmed users.\n",
        "print(\"\\nThe following users have been confirmed:\")\n",
        "for confirmed_user in confirmed_users:\n",
        "  print(confirmed_user.title())"
      ],
      "metadata": {
        "colab": {
          "base_uri": "https://localhost:8080/"
        },
        "id": "icQ_93C1rpJl",
        "outputId": "1353948b-9a12-47e9-ae90-091fd15ded19"
      },
      "execution_count": 12,
      "outputs": [
        {
          "output_type": "stream",
          "name": "stdout",
          "text": [
            "Verifying user: Candace\n",
            "Verifying user: Brian\n",
            "Verifying user: Alice\n",
            "\n",
            "The following users have been confirmed:\n",
            "Candace\n",
            "Brian\n",
            "Alice\n"
          ]
        }
      ]
    },
    {
      "cell_type": "code",
      "source": [
        "# REMOVING ALL INSTANCES OF SPECIFIC VALUES FROM A LIST\n",
        "pets = ['dog', 'cat', 'dog', 'goldfish', 'cat', 'rabbit', 'cat']\n",
        "print(pets)\n",
        "while 'cat' in pets:\n",
        "  pets.remove('cat')\n",
        "print(pets)"
      ],
      "metadata": {
        "colab": {
          "base_uri": "https://localhost:8080/"
        },
        "id": "SL6BruD3rtrF",
        "outputId": "5260de11-e9e1-49bd-e614-0bd37ad5abca"
      },
      "execution_count": 13,
      "outputs": [
        {
          "output_type": "stream",
          "name": "stdout",
          "text": [
            "['dog', 'cat', 'dog', 'goldfish', 'cat', 'rabbit', 'cat']\n",
            "['dog', 'dog', 'goldfish', 'rabbit']\n"
          ]
        }
      ]
    },
    {
      "cell_type": "code",
      "source": [
        "# Filling a dictionary with user input\n",
        "responses = {}\n",
        "#Set a flag to indicate that polling is active\n",
        "polling_active = True\n",
        "while polling_active:\n",
        "  #Prompt for the person's name and response.\n",
        "  name= input(\"\\nWhat is your name? \")\n",
        "  response = input(\"Which mountain would you like to climb someday?\")\n",
        "  # Store the response in the dictionary.\n",
        "  responses[name] = response\n",
        "  #Find out if anyone else is going to take the poll.\n",
        "  repeat = input(\"Would you like to let another person respond? (yes/no) \")\n",
        "  if repeat == 'no':\n",
        "    polling_active = False\n",
        "# Polling is complete. Show the results.\n",
        "print(\"\\n---Poll Results---\")\n",
        "for name, response in responses.items():\n",
        "  print(f\"{name} would like to climb {response}.\")"
      ],
      "metadata": {
        "colab": {
          "base_uri": "https://localhost:8080/"
        },
        "id": "Fj5G9Jcfrv_0",
        "outputId": "9d81ecfa-b39c-437f-c24c-cfc546cac571"
      },
      "execution_count": 14,
      "outputs": [
        {
          "output_type": "stream",
          "name": "stdout",
          "text": [
            "\n",
            "What is your name? Eric\n",
            "Which mountain would you like to climb someday?Denli\n",
            "Would you like to let another person respond? (yes/no) no\n",
            "\n",
            "---Poll Results---\n",
            "Eric would like to climb Denli.\n"
          ]
        }
      ]
    }
  ]
}