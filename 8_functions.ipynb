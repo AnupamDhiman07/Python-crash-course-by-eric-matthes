{
  "cells": [
    {
      "cell_type": "markdown",
      "metadata": {
        "id": "qNZkVzj3_gWG"
      },
      "source": [
        "**CHAPTER 8: FUNCTIONS**"
      ]
    },
    {
      "cell_type": "code",
      "execution_count": null,
      "metadata": {
        "colab": {
          "base_uri": "https://localhost:8080/"
        },
        "id": "9koKadBtB4Jo",
        "outputId": "69d2d4a9-71fe-405b-d2e9-c95983129f31"
      },
      "outputs": [
        {
          "name": "stdout",
          "output_type": "stream",
          "text": [
            "Hello!\n"
          ]
        }
      ],
      "source": [
        "# DEFINING A FUNCTION\n",
        "def greet_user():\n",
        "  \"\"\" Display a simple greeting.\"\"\"\n",
        "  print(\"Hello!\")\n",
        "\n",
        "greet_user()"
      ]
    },
    {
      "cell_type": "code",
      "execution_count": null,
      "metadata": {
        "colab": {
          "base_uri": "https://localhost:8080/"
        },
        "id": "XXaLMlqkC5HV",
        "outputId": "b411b3d1-0c6a-432c-c20d-5311b8e0b046"
      },
      "outputs": [
        {
          "name": "stdout",
          "output_type": "stream",
          "text": [
            "Hello, Jesse!\n"
          ]
        }
      ],
      "source": [
        "# PASSING INFORMATION TO A FUNCTION\n",
        "def greet_user(username):\n",
        "  \"\"\" Display a simple greeting\"\"\"\n",
        "  print(f\"Hello, {username.title()}!\")\n",
        "\n",
        "greet_user(\"jesse\")"
      ]
    },
    {
      "cell_type": "markdown",
      "metadata": {
        "id": "MiUY9a4xDkJ-"
      },
      "source": [
        "A parameter is a piece of information the function needs to do its job.\n",
        "\n",
        "An argument is a piece of information that is passed from a function call to a function."
      ]
    },
    {
      "cell_type": "code",
      "execution_count": null,
      "metadata": {
        "colab": {
          "base_uri": "https://localhost:8080/"
        },
        "id": "EIqYiXNWENx4",
        "outputId": "4385da08-43a7-4718-91ae-5fa79b0b26fa"
      },
      "outputs": [
        {
          "name": "stdout",
          "output_type": "stream",
          "text": [
            "\n",
            "I have a hamster.\n",
            "My hamster is named Harry.\n"
          ]
        }
      ],
      "source": [
        "def describe_pet(animal_type, pet_name):\n",
        "  \"\"\"Display information about a pet.\"\"\"\n",
        "  print(f\"\\nI have a {animal_type}.\")\n",
        "  print(f\"My {animal_type} is named {pet_name.title()}.\")\n",
        "\n",
        "describe_pet('hamster','harry')"
      ]
    },
    {
      "cell_type": "code",
      "execution_count": null,
      "metadata": {
        "colab": {
          "base_uri": "https://localhost:8080/"
        },
        "id": "S6SFa27MFGwI",
        "outputId": "e7530c42-617c-4384-c096-f64c6ba310d2"
      },
      "outputs": [
        {
          "name": "stdout",
          "output_type": "stream",
          "text": [
            "\n",
            "I have a hamster.\n",
            "My hamster is named Harry.\n",
            "\n",
            "I have a dog.\n",
            "My dog is named Willie.\n"
          ]
        }
      ],
      "source": [
        "# MULTIPLE FUNCTION CALLS\n",
        "def describe_pet(animal_type, pet_name):\n",
        "  \"\"\"Display information about a pet.\"\"\"\n",
        "  print(f\"\\nI have a {animal_type}.\")\n",
        "  print(f\"My {animal_type} is named {pet_name.title()}.\")\n",
        "\n",
        "describe_pet('hamster','harry')\n",
        "describe_pet('dog', 'willie')"
      ]
    },
    {
      "cell_type": "code",
      "execution_count": null,
      "metadata": {
        "colab": {
          "base_uri": "https://localhost:8080/"
        },
        "id": "POQfCxRfFYoj",
        "outputId": "51ce269b-ae4d-4a32-d119-17a39e3cc492"
      },
      "outputs": [
        {
          "name": "stdout",
          "output_type": "stream",
          "text": [
            "\n",
            "I have a hamster.\n",
            "My hamster is named Harry.\n"
          ]
        }
      ],
      "source": [
        "# KEYWORD ARGUMENTS\n",
        "def describe_pet(animal_type, pet_name):\n",
        "  \"\"\"Display information about a pet.\"\"\"\n",
        "  print(f\"\\nI have a {animal_type}.\")\n",
        "  print(f\"My {animal_type} is named {pet_name.title()}.\")\n",
        "\n",
        "describe_pet(animal_type='hamster',pet_name='harry')"
      ]
    },
    {
      "cell_type": "markdown",
      "metadata": {
        "id": "GSzeez5UFnHC"
      },
      "source": [
        "A **keyword argument** is a name-value pair that you pass to a function. Keyword arguments free you from having to worry about correctly ordering your arguments in a function call, and they clarify the role of each value in the function call."
      ]
    },
    {
      "cell_type": "code",
      "execution_count": null,
      "metadata": {
        "colab": {
          "base_uri": "https://localhost:8080/"
        },
        "id": "EQOMFjNuGT8E",
        "outputId": "5e5eb953-8561-41cf-a04d-e22efa6b0d28"
      },
      "outputs": [
        {
          "name": "stdout",
          "output_type": "stream",
          "text": [
            "\n",
            "I have a dog.\n",
            "My dog is named Willie.\n"
          ]
        }
      ],
      "source": [
        "# DEFAULT VALUES\n",
        "def describe_pet(pet_name,animal_type='dog'):\n",
        "  \"\"\"Display information about a pet.\"\"\"\n",
        "  print(f\"\\nI have a {animal_type}.\")\n",
        "  print(f\"My {animal_type} is named {pet_name.title()}.\")\n",
        "\n",
        "describe_pet(pet_name='willie')"
      ]
    },
    {
      "cell_type": "markdown",
      "metadata": {
        "id": "uOhrp2T6HI1C"
      },
      "source": [
        "**RETURN VALUE**\n",
        "\n",
        "A function doesn't always have to display its output directly. Instead, it can process some data and then return a set of values. The value the function returns is called a return value. The return statement takes a value from inside a function and sends it back to the line that called the function. Return values allow you to move much of your program's grunt work into functions, which can simplify the body of your program."
      ]
    },
    {
      "cell_type": "code",
      "execution_count": null,
      "metadata": {
        "colab": {
          "base_uri": "https://localhost:8080/"
        },
        "id": "KOnn6YeuH53S",
        "outputId": "36342280-19e6-494c-ebbe-cb3b808c517f"
      },
      "outputs": [
        {
          "name": "stdout",
          "output_type": "stream",
          "text": [
            "Jimi Hendrix\n"
          ]
        }
      ],
      "source": [
        "# RETURNING A SIMPLE VALUE\n",
        "def get_formatted_name(first_name, last_name):\n",
        "  \"\"\"RETURN A FULL NAME NEATLY FORMATTED\"\"\"\n",
        "  full_name = f\"{first_name} {last_name}\"\n",
        "  return full_name.title()\n",
        "\n",
        "musician = get_formatted_name('jimi', 'hendrix')\n",
        "print(musician)"
      ]
    },
    {
      "cell_type": "code",
      "execution_count": null,
      "metadata": {
        "colab": {
          "base_uri": "https://localhost:8080/"
        },
        "id": "4Kquje6vIv6i",
        "outputId": "54c15b23-cd19-45d5-e924-46e374a91142"
      },
      "outputs": [
        {
          "name": "stdout",
          "output_type": "stream",
          "text": [
            "John Lee Hooker\n"
          ]
        }
      ],
      "source": [
        "# MAKING AN ARGUMENT OPTIONAL\n",
        "def get_formatted_name(first_name,middle_name,last_name):\n",
        "  \"\"\"Return a full name neatly formatted\"\"\"\n",
        "  full_name = f\"{first_name} {middle_name} {last_name}\"\n",
        "  return full_name.title()\n",
        "\n",
        "musician = get_formatted_name('john', 'lee', 'hooker')\n",
        "print(musician)"
      ]
    },
    {
      "cell_type": "code",
      "execution_count": null,
      "metadata": {
        "colab": {
          "base_uri": "https://localhost:8080/"
        },
        "id": "RnBx6yRNL_5k",
        "outputId": "181ccf83-75a9-4a0f-d3a3-170d20b4ceb6"
      },
      "outputs": [
        {
          "name": "stdout",
          "output_type": "stream",
          "text": [
            "Jimi Hendrix\n"
          ]
        }
      ],
      "source": [
        "def get_formatted_name(first_name, last_name, middle_name=''):\n",
        "  \"\"\"Return a full name neatly formatted\"\"\"\n",
        "  if middle_name:\n",
        "    full_name = f\"{first_name} {middle_name} {last_name}\"\n",
        "  else:\n",
        "    full_name=f\"{first_name} {last_name}\"\n",
        "\n",
        "  return full_name.title()\n",
        "\n",
        "musician = get_formatted_name('jimi', 'hendrix')\n",
        "print(musician)\n"
      ]
    },
    {
      "cell_type": "code",
      "execution_count": null,
      "metadata": {
        "colab": {
          "base_uri": "https://localhost:8080/"
        },
        "id": "i-3p-gPcM-xp",
        "outputId": "e5fff5b9-64a4-40cf-ea6c-9f5e399b45cd"
      },
      "outputs": [
        {
          "name": "stdout",
          "output_type": "stream",
          "text": [
            "{'first': 'jimi', 'last': 'hendrix'}\n"
          ]
        }
      ],
      "source": [
        "# RETURNING A DICTIONARY\n",
        "def build_person(first_name, last_name):\n",
        "  \"\"\"Return a dictionary of information about a person.\"\"\"\n",
        "  person = {'first': first_name, 'last': last_name}\n",
        "  return person\n",
        "\n",
        "musician = build_person('jimi','hendrix')\n",
        "print(musician)"
      ]
    },
    {
      "cell_type": "code",
      "execution_count": null,
      "metadata": {
        "colab": {
          "base_uri": "https://localhost:8080/"
        },
        "id": "pp_CCr1aNzT3",
        "outputId": "35f2d829-58f7-4632-a386-46eec9a31918"
      },
      "outputs": [
        {
          "name": "stdout",
          "output_type": "stream",
          "text": [
            "{'first': 'jimi', 'last': 'hendrix', 'age': 27}\n"
          ]
        }
      ],
      "source": [
        "def build_person(first_name, last_name, age=None):\n",
        " \"\"\"Return a dictionary of information about a person.\"\"\"\n",
        " person = {'first': first_name, 'last': last_name}\n",
        " if age:\n",
        "  person['age'] = age\n",
        " return person\n",
        "\n",
        "musician = build_person('jimi', 'hendrix', age=27)\n",
        "print(musician)"
      ]
    },
    {
      "cell_type": "code",
      "execution_count": null,
      "metadata": {
        "id": "SbgtR2baOvsX"
      },
      "outputs": [],
      "source": [
        "# USING A FUNCTION WITH A WHILE LOOP\n",
        "def get_formatted_name(first_name, last_name):\n",
        "  \"\"\"Return a full name, neatly formtted.\"\"\"\n",
        "  full_name = f\"{first_name} {last_name}\"\n",
        "  return full_name.title()\n",
        "\n",
        "# This is an infinite loop\n",
        "while True:\n",
        "  print(\"\\n Please tell me your name: \")\n",
        "  f_name =input(\"First name: \")\n",
        "  l_name = input(\"Last name: \")\n",
        "\n",
        "  formatted_name = get_formatted_name(f_name, l_name)\n",
        "  print(f\"Hello, {formatted_name}!\")"
      ]
    },
    {
      "cell_type": "code",
      "source": [
        "def get_formatted_name(first_name, last_name):\n",
        "  \"\"\"Return a full name neatly formatted\"\"\"\n",
        "  full_name = f\"{first_name} {last_name}\"\n",
        "  return full_name.title()\n",
        "\n",
        "while True:\n",
        "  print(\"\\nPlease tell me your name:\")\n",
        "  print(\"(Enter 'q' any time you want to quit)\")\n",
        "\n",
        "  f_name = input(\"First name: \")\n",
        "  if f_name == 'q':\n",
        "    break\n",
        "  l_name = input(\"Last name: \")\n",
        "  if l_name == 'q':\n",
        "   break\n",
        "\n",
        "  formatted_name = get_formatted_name(f_name, l_name)\n",
        "  print(f\"\\nHello, {formatted_name}!\")\n"
      ],
      "metadata": {
        "colab": {
          "base_uri": "https://localhost:8080/"
        },
        "id": "x5ZS8xQke7Jh",
        "outputId": "d39db33d-d5e2-42ff-c078-382f9b7eb14d"
      },
      "execution_count": null,
      "outputs": [
        {
          "name": "stdout",
          "output_type": "stream",
          "text": [
            "\n",
            "Please tell me your name:\n",
            "(Enter 'q' any time you want to quit)\n",
            "First name: eric\n",
            "Last name: matthes\n",
            "\n",
            "Hello, Eric Matthes!\n",
            "\n",
            "Please tell me your name:\n",
            "(Enter 'q' any time you want to quit)\n",
            "First name: q\n"
          ]
        }
      ]
    },
    {
      "cell_type": "code",
      "source": [
        "# PASSING A LIST\n",
        "def greet_users(names):\n",
        "  \"\"\"Print a simple geeting to each user in the list.\"\"\"\n",
        "  for name in names:\n",
        "    msg = f\"Hello, {name.title()}!\"\n",
        "    print(msg)\n",
        "\n",
        "usernames = ['hannah', 'ty', 'margot']\n",
        "greet_users(usernames)"
      ],
      "metadata": {
        "colab": {
          "base_uri": "https://localhost:8080/"
        },
        "id": "fIbjbqJ9gnGY",
        "outputId": "8b593503-740b-493e-feb6-c33cef3808f5"
      },
      "execution_count": null,
      "outputs": [
        {
          "output_type": "stream",
          "name": "stdout",
          "text": [
            "Hello, Hannah!\n",
            "Hello, Ty!\n",
            "Hello, Margot!\n"
          ]
        }
      ]
    },
    {
      "cell_type": "code",
      "source": [
        "# Modifying a list in a function\n",
        "\n",
        "# Start with some designs that need to be printed\n",
        "unprinted_designs = ['phone case', 'robot pendant', 'dodecahedron']\n",
        "completed_models = []\n",
        "\n",
        "# Simulate printing each design, until none are left.\n",
        "# Move each design to completed_models after printing.\n",
        "while unprinted_designs:\n",
        "  current_design = unprinted_designs.pop()\n",
        "  print(f\"printing model: {current_design}\")\n",
        "  completed_models.append(current_design)\n",
        "\n",
        "# Display all completed models.\n",
        "print(\"\\nThe following models have been printed: \")\n",
        "for completed_model in completed_models:\n",
        "  print(completed_model)"
      ],
      "metadata": {
        "colab": {
          "base_uri": "https://localhost:8080/"
        },
        "id": "2etdC0OyhWRx",
        "outputId": "6ae0780e-8ee7-4d01-9218-f9dcbe57cb94"
      },
      "execution_count": null,
      "outputs": [
        {
          "output_type": "stream",
          "name": "stdout",
          "text": [
            "printing model: dodecahedron\n",
            "printing model: robot pendant\n",
            "printing model: phone case\n",
            "\n",
            "The following models have been printed: \n",
            "dodecahedron\n",
            "robot pendant\n",
            "phone case\n"
          ]
        }
      ]
    },
    {
      "cell_type": "code",
      "source": [
        "def print_models(unprinted_designs, completed_models):\n",
        "  \"\"\"\n",
        "  Simulate printing each design, until none are left.\n",
        "  Move each design to completed_models after printing.\n",
        "  \"\"\"\n",
        "  while unprinted_designs:\n",
        "    current_design = unprinted_designs.pop()\n",
        "    print(f\"Printing model: {current_design}\")\n",
        "    completed_models.append(current_design)\n",
        "\n",
        "def show_completed_models(completed_models):\n",
        "  \"\"\"Show all models that were printed.\"\"\"\n",
        "  print(\"\\nThe following models have been printed:\")\n",
        "  for completed_model in completed_models:\n",
        "    print(completed_model)\n",
        "\n",
        "unprinted_designs = ['phone case', 'robot pendant', 'dodecahedron']\n",
        "completed_models = []\n",
        "\n",
        "print_models(unprinted_designs, completed_models)\n",
        "show_completed_models(completed_models)\n"
      ],
      "metadata": {
        "colab": {
          "base_uri": "https://localhost:8080/"
        },
        "id": "mcz2GQo9iqqO",
        "outputId": "eda4a609-6a47-4a8c-c8e2-891f44691415"
      },
      "execution_count": null,
      "outputs": [
        {
          "output_type": "stream",
          "name": "stdout",
          "text": [
            "Printing model: dodecahedron\n",
            "Printing model: robot pendant\n",
            "Printing model: phone case\n",
            "\n",
            "The following models have been printed:\n",
            "dodecahedron\n",
            "robot pendant\n",
            "phone case\n"
          ]
        }
      ]
    },
    {
      "cell_type": "code",
      "source": [
        "unprinted_designs = ['phone case', 'robot pendant', 'dodecahedron']\n",
        "completed_models = []\n",
        "print_models(unprinted_designs, completed_models)\n",
        "show_completed_models(completed_models)"
      ],
      "metadata": {
        "colab": {
          "base_uri": "https://localhost:8080/"
        },
        "id": "gjBrqNipkKQ4",
        "outputId": "74afdc11-34ae-4f81-a5b4-c605fc477f88"
      },
      "execution_count": null,
      "outputs": [
        {
          "output_type": "stream",
          "name": "stdout",
          "text": [
            "Printing model: dodecahedron\n",
            "Printing model: robot pendant\n",
            "Printing model: phone case\n",
            "\n",
            "The following models have been printed:\n",
            "dodecahedron\n",
            "robot pendant\n",
            "phone case\n"
          ]
        }
      ]
    },
    {
      "cell_type": "code",
      "source": [
        "# PASSING AN ARBITRARY NUMBER OF ARGUMENTS\n",
        "def make_pizza(*toppings):\n",
        "  \"\"\"Print the list of toppings that have been requested.\"\"\"\n",
        "  print(toppings)\n",
        "\n",
        "make_pizza('pepperoni')\n",
        "make_pizza('mushrooms', 'green peppers', 'extra cheese')"
      ],
      "metadata": {
        "colab": {
          "base_uri": "https://localhost:8080/"
        },
        "id": "IEeEbAXTk0os",
        "outputId": "873c49a2-78da-462c-995e-c0a826c8401c"
      },
      "execution_count": null,
      "outputs": [
        {
          "output_type": "stream",
          "name": "stdout",
          "text": [
            "('pepperoni',)\n",
            "('mushrooms', 'green peppers', 'extra cheese')\n"
          ]
        }
      ]
    },
    {
      "cell_type": "markdown",
      "source": [
        "Sometimes you won't know ahead of time how many arguments a function needs to accept. Fortunately, Python allows a function to collect an arbitrary number of arguments from the calling statement.\n",
        "\n",
        "The asterisk in the parameter name *toppings tells Python to make an empty tuple called toppings and pack whatever values it recieves into this tuple."
      ],
      "metadata": {
        "id": "idW9xj3SlSrl"
      }
    },
    {
      "cell_type": "code",
      "source": [
        "def make_pizza(*toppings):\n",
        "  \"\"\"Summarize the pizza we are about to make.\"\"\"\n",
        "  print(\"\\n Making a pizza with the following toppings:\")\n",
        "  for topping in toppings:\n",
        "    print(f\"-{topping}\")\n",
        "\n",
        "make_pizza('pepperoni')\n",
        "make_pizza('mushrooms','green peppers','extra cheese')"
      ],
      "metadata": {
        "colab": {
          "base_uri": "https://localhost:8080/"
        },
        "id": "ATJJEJhHl_ec",
        "outputId": "c02aaae3-9cd7-4d6a-f050-4163ecdd0ec0"
      },
      "execution_count": null,
      "outputs": [
        {
          "output_type": "stream",
          "name": "stdout",
          "text": [
            "\n",
            " Making a pizza with the following toppings:\n",
            "-pepperoni\n",
            "\n",
            " Making a pizza with the following toppings:\n",
            "-mushrooms\n",
            "-green peppers\n",
            "-extra cheese\n"
          ]
        }
      ]
    },
    {
      "cell_type": "code",
      "source": [
        "# MIXING POSITIONAL AND ARBITRARY ARGUMENTS\n",
        "def make_pizza(size, *toppings):\n",
        "  \"\"\"Summarize the pizza we are about to make.\"\"\"\n",
        "  print(f\"\\nMaking a {size}-inch pizza with the following toppings:\")\n",
        "  for topping in toppings:\n",
        "    print(f\"-{topping}\")\n",
        "\n",
        "make_pizza(16, 'pepperoni')\n",
        "make_pizza(12, 'mushrooms', 'green peppers', 'extra cheese')"
      ],
      "metadata": {
        "colab": {
          "base_uri": "https://localhost:8080/"
        },
        "id": "gkpcyDXrmqmp",
        "outputId": "7a7acf08-703e-4911-b561-9368d43546c1"
      },
      "execution_count": null,
      "outputs": [
        {
          "output_type": "stream",
          "name": "stdout",
          "text": [
            "\n",
            "Making a 16-inch pizza with the following toppings:\n",
            "-pepperoni\n",
            "\n",
            "Making a 12-inch pizza with the following toppings:\n",
            "-mushrooms\n",
            "-green peppers\n",
            "-extra cheese\n"
          ]
        }
      ]
    },
    {
      "cell_type": "code",
      "source": [
        "# USING ARBITRARY KEYWORD ARGUMENTS\n",
        "def build_profile(first, last, **user_info):\n",
        "  \"\"\"Build a dictionary containing everything we know about a user.\"\"\"\n",
        "  user_info['first_name'] = first\n",
        "  user_info['last_name'] = last\n",
        "  return user_info\n",
        "\n",
        "user_profile = build_profile('albert', 'einstein', location ='princeton', field ='physics')\n",
        "print(user_profile)"
      ],
      "metadata": {
        "colab": {
          "base_uri": "https://localhost:8080/"
        },
        "id": "0CX2uyPnnfYb",
        "outputId": "1cc4f396-386e-4435-b306-e651234b3a96"
      },
      "execution_count": null,
      "outputs": [
        {
          "output_type": "stream",
          "name": "stdout",
          "text": [
            "{'location': 'princeton', 'field': 'physics', 'first_name': 'albert', 'last_name': 'einstein'}\n"
          ]
        }
      ]
    },
    {
      "cell_type": "markdown",
      "source": [
        "*user_info cause python to create an empty dictionary called user_info and pack whatever name-value pairs it recieves into this dictionary."
      ],
      "metadata": {
        "id": "trcw77dOoZku"
      }
    }
  ],
  "metadata": {
    "colab": {
      "provenance": []
    },
    "kernelspec": {
      "display_name": "Python 3",
      "name": "python3"
    },
    "language_info": {
      "name": "python"
    }
  },
  "nbformat": 4,
  "nbformat_minor": 0
}